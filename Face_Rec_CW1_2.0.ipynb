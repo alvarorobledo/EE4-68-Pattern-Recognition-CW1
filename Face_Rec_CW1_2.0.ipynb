{
 "cells": [
  {
   "cell_type": "code",
   "execution_count": 1,
   "metadata": {},
   "outputs": [],
   "source": [
    "import scipy.io\n",
    "import numpy as np\n",
    "import matplotlib.pyplot as plt\n",
    "from numpy import linalg as calc_eigen\n",
    "from sklearn.model_selection import train_test_split\n",
    "from sklearn.preprocessing import normalize as normalize_vectors"
   ]
  },
  {
   "cell_type": "code",
   "execution_count": 2,
   "metadata": {},
   "outputs": [],
   "source": [
    "def extractTrainAndTestData(file_path, r):\n",
    "    \"\"\"\n",
    "    takes images and labels as input\n",
    "    outputs training data and test data\n",
    "    \"\"\"\n",
    "    mat = scipy.io.loadmat(file_path)\n",
    "    X_train, X_test, y_train, y_test = train_test_split(mat['X'].T, mat['l'].T, test_size= r, random_state=19)\n",
    "    N_train = len(X_train[:,0])\n",
    "    N_test = len(X_test[:,0])\n",
    "    return X_train, y_train, N_train, X_test, y_test, N_test\n",
    "\n",
    "def calculateAverageFace(X):\n",
    "    \"\"\"\n",
    "    takes the training data set as input \n",
    "    and returns the average face\n",
    "    \"\"\"\n",
    "    average_face= np.mean(X, axis=0)\n",
    "    #plt.figure()\n",
    "    #plt.title(\"Average Face\")\n",
    "    #plt.imshow(np.resize(average_face, (46, 56)).T, cmap='gray')\n",
    "    return average_face\n",
    "\n",
    "def normalize(X, AvgFace):\n",
    "    \"\"\"\n",
    "    takes the training data set and average face as input \n",
    "    and returns the normalized training data set\n",
    "\n",
    "    \"\"\"\n",
    "    N = len(X[:,0])\n",
    "    Q = np.empty((N,2576))\n",
    "    for index, face in enumerate(X):\n",
    "        Q[index] = face - AvgFace\n",
    "    return Q.T\n",
    "\n",
    "def calculateCovarianceMatrix(Q):\n",
    "    return np.matmul(Q,Q.T)/len(Q[0,:])\n",
    "\n",
    "def calculateLowDimCovarianceMatrix(Q):\n",
    "    return np.matmul(Q.T,Q)/len(Q[0,:])\n",
    "\n",
    "def calculateEigenValuesAndVectors(S):\n",
    "    \"\"\"\n",
    "    Takes covariance matrix as input\n",
    "    and returns eigen values and vectors\n",
    "    \"\"\"\n",
    "    v, w =  calc_eigen.eigh(S)\n",
    "    #eigen_vectors[:,i] --> eigen_values[i]\n",
    "    #eigen vector corresponding to eigen value\n",
    "\n",
    "    #flips left to right... ascending to descending\n",
    "    v = np.flip(v, axis=0) #turn ascending into descending\n",
    "    w = np.flip(w, axis=1) #turn ascending into descending\n",
    "    return v, w\n",
    "\n",
    "def calculateWeights(Q, U):\n",
    "    \"\"\"\n",
    "    takes input the normalized input and the eigen space\n",
    "    outputs the weights of the normalized input\n",
    "    \"\"\"\n",
    "    N = len(Q[0,:])\n",
    "    W = np.empty((N,len(U[0, :])))\n",
    "    for index, image in enumerate(Q.T):\n",
    "        W[index] = np.matmul(image, U)\n",
    "    return W\n",
    "\n",
    "def calculateWeights2(Q, U):\n",
    "    \"\"\"\n",
    "    alternative method to calculate weights\n",
    "    \"\"\"\n",
    "    N = len(Q[0,:])\n",
    "    W2 = np.empty((N,len(U[0, :])))\n",
    "    W2 = np.matmul(Q.T, top_eigen_vectors)\n",
    "    return W2\n",
    "\n",
    "def printImage(face, title, saved_file):\n",
    "    \"\"\"\n",
    "    takes input as the face you want to print, the title of the image, and the location of the file\n",
    "    you would like to save the image to. \n",
    "    \"\"\"\n",
    "    plt.figure()\n",
    "    plt.imshow(np.resize(face, (46, 56)).T, cmap='gray')\n",
    "    plt.title(title)\n",
    "    plt.savefig(saved_file, bbox_inches='tight')   # save the figure to file\n",
    "    plt.show()\n",
    "    plt.close() \n",
    "    \n",
    "def plotEigenValueGraph(v, points):\n",
    "    \"\"\"\n",
    "    plots eigen values against inrementing the number of eigen values used\n",
    "    in descending order\n",
    "    \"\"\"\n",
    "    y_points = [value for value in v[:points]]\n",
    "    x_points = [i for i in range(points)]\n",
    "    plt.xlabel('Number of Eigen Values')\n",
    "    plt.ylabel('Eigen Values')\n",
    "    plt.title('Plot of Eigen Values in Descending Order')\n",
    "    plt.plot(x_points, y_points)\n",
    "    plt.savefig('eigenvalues.png', bbox_inches='tight')   # save the figure to file\n",
    "    plt.show()\n",
    "    plt.close() "
   ]
  },
  {
   "cell_type": "code",
   "execution_count": 3,
   "metadata": {},
   "outputs": [],
   "source": [
    "file_path = 'face(1).mat'\n",
    "M = 10\n",
    "testRatio = 0.25\n",
    "\n",
    "X_train, y_train, N_train, X_test, y_test, N_test = extractTrainAndTestData(file_path, testRatio)\n",
    "\n",
    "def calculateEigenSpace(X_train, M):\n",
    "    AvgFace = calculateAverageFace(X_train)\n",
    "    A = normalize(X_train, AvgFace)\n",
    "    S = calculateLowDimCovarianceMatrix(A)\n",
    "    eigen_values, eigen_vectors = calculateEigenValuesAndVectors(S)\n",
    "    eigen_vectors = normalize_vectors(np.matmul(A, eigen_vectors), axis=0)\n",
    "    top_eigen_vectors = eigen_vectors[:, :M]\n",
    "    return AvgFace, A, eigen_values, top_eigen_vectors\n",
    "\n",
    "AvgFace, A, EigenValues, EigenSpace = calculateEigenSpace(X_train, M)\n",
    "Weights =  calculateWeights(A, EigenSpace)"
   ]
  },
  {
   "cell_type": "code",
   "execution_count": 4,
   "metadata": {},
   "outputs": [
    {
     "data": {
      "image/png": "[encoded data removed]",
      "text/plain": [
       "<matplotlib.figure.Figure at 0x15ab8bf7358>"
      ]
     },
     "metadata": {},
     "output_type": "display_data"
    }
   ],
   "source": [
    "x_points = 30\n",
    "plotEigenValueGraph(EigenValues, x_points)"
   ]
  },
  {
   "cell_type": "code",
   "execution_count": 5,
   "metadata": {},
   "outputs": [
    {
     "data": {
      "text/plain": [
       "100.0"
      ]
     },
     "execution_count": 5,
     "metadata": {},
     "output_type": "execute_result"
    }
   ],
   "source": [
    "np.sum(EigenValues[:390])*100/np.sum(EigenValues)"
   ]
  },
  {
   "cell_type": "markdown",
   "metadata": {},
   "source": [
    "### Reconstruction"
   ]
  },
  {
   "cell_type": "code",
   "execution_count": 6,
   "metadata": {},
   "outputs": [],
   "source": [
    "def reconstruction(weight, average_face, w):\n",
    "    return (average_face + np.dot(w, weight.T))"
   ]
  },
  {
   "cell_type": "code",
   "execution_count": 7,
   "metadata": {},
   "outputs": [],
   "source": [
    "# picking one face and it's corresponding weight for reconstruction\n",
    "random_index = 5\n",
    "face_to_be_reconstructed = X_train[random_index, :]\n",
    "weights_of_face_to_be_reconstructed = Weights[random_index, :]"
   ]
  },
  {
   "cell_type": "code",
   "execution_count": 8,
   "metadata": {},
   "outputs": [
    {
     "data": {
      "image/png": "[encoded data removed]",
      "text/plain": [
       "<matplotlib.figure.Figure at 0x15ab8aa2d30>"
      ]
     },
     "metadata": {},
     "output_type": "display_data"
    }
   ],
   "source": [
    "reconstructed_face = reconstruction(weights_of_face_to_be_reconstructed, AvgFace, EigenSpace)\n",
    "#printImage(face_to_be_reconstructed, \"Original Face\", \"original_face.png\")\n",
    "printImage(reconstructed_face, \"Reconstructed Face\", \"reconstructed_face2.png\")"
   ]
  },
  {
   "cell_type": "code",
   "execution_count": 9,
   "metadata": {},
   "outputs": [],
   "source": [
    "error = reconstructed_face - face_to_be_reconstructed"
   ]
  },
  {
   "cell_type": "code",
   "execution_count": 10,
   "metadata": {},
   "outputs": [
    {
     "data": {
      "text/plain": [
       "1732.9889936185707"
      ]
     },
     "execution_count": 10,
     "metadata": {},
     "output_type": "execute_result"
    }
   ],
   "source": [
    "calc_eigen.norm(error)"
   ]
  },
  {
   "cell_type": "markdown",
   "metadata": {},
   "source": [
    "### Recognition"
   ]
  },
  {
   "cell_type": "code",
   "execution_count": 180,
   "metadata": {},
   "outputs": [],
   "source": [
    "def NNClassification(r, \n",
    "                     y_train, W_train, X_train, \n",
    "                     y_test, W_test, X_test):\n",
    "    \n",
    "    weight_test = W_test[r, :]\n",
    "    face_test = X_test[r, :]\n",
    "    face_test_label = y_test[r, :]\n",
    "    error = np.empty(( len(W_train[:, 0]) ))\n",
    "    for index, weight in enumerate(W_train): \n",
    "        error[index] = calc_eigen.norm(weight_test - weight)\n",
    "    min_error = error.min()\n",
    "    min_error_index = error.argmin()\n",
    "    face_best_matched = X_train[min_error_index, :]\n",
    "    label_best_matched = y_train[min_error_index, :]\n",
    "    print(face_test_label, '--->', label_best_matched)\n",
    "    if label_best_matched != face_test_label:\n",
    "        return 1\n",
    "    else:\n",
    "        return 0"
   ]
  },
  {
   "cell_type": "code",
   "execution_count": 181,
   "metadata": {},
   "outputs": [
    {
     "name": "stdout",
     "output_type": "stream",
     "text": [
      "[23] ---> [23]\n",
      "[17] ---> [17]\n",
      "[25] ---> [29]\n",
      "[14] ---> [14]\n",
      "[10] ---> [10]\n",
      "[2] ---> [2]\n",
      "[21] ---> [21]\n",
      "[18] ---> [20]\n",
      "[2] ---> [8]\n",
      "[34] ---> [34]\n",
      "[49] ---> [29]\n",
      "[24] ---> [24]\n",
      "[10] ---> [10]\n",
      "[26] ---> [26]\n",
      "[40] ---> [41]\n",
      "[12] ---> [12]\n",
      "[27] ---> [27]\n",
      "[43] ---> [4]\n",
      "[21] ---> [21]\n",
      "[51] ---> [51]\n",
      "[43] ---> [14]\n",
      "[21] ---> [21]\n",
      "[27] ---> [49]\n",
      "[15] ---> [22]\n",
      "[8] ---> [8]\n",
      "[11] ---> [11]\n",
      "[16] ---> [16]\n",
      "[8] ---> [8]\n",
      "[20] ---> [20]\n",
      "[23] ---> [23]\n",
      "[7] ---> [7]\n",
      "[42] ---> [42]\n",
      "[51] ---> [25]\n",
      "[38] ---> [38]\n",
      "[14] ---> [14]\n",
      "[48] ---> [29]\n",
      "[50] ---> [50]\n",
      "[7] ---> [6]\n",
      "[28] ---> [28]\n",
      "[4] ---> [4]\n",
      "[45] ---> [5]\n",
      "[4] ---> [4]\n",
      "[34] ---> [34]\n",
      "[9] ---> [12]\n",
      "[40] ---> [40]\n",
      "[35] ---> [35]\n",
      "[51] ---> [51]\n",
      "[29] ---> [29]\n",
      "[40] ---> [40]\n",
      "[6] ---> [6]\n",
      "[24] ---> [24]\n",
      "[49] ---> [42]\n",
      "[39] ---> [39]\n",
      "[46] ---> [11]\n",
      "[19] ---> [4]\n",
      "[47] ---> [49]\n",
      "[30] ---> [46]\n",
      "[3] ---> [3]\n",
      "[14] ---> [20]\n",
      "[27] ---> [29]\n",
      "[51] ---> [51]\n",
      "[3] ---> [3]\n",
      "[8] ---> [8]\n",
      "[14] ---> [15]\n",
      "[37] ---> [37]\n",
      "[18] ---> [16]\n",
      "[3] ---> [3]\n",
      "[13] ---> [34]\n",
      "[49] ---> [6]\n",
      "[7] ---> [10]\n",
      "[12] ---> [12]\n",
      "[15] ---> [22]\n",
      "[30] ---> [29]\n",
      "[1] ---> [1]\n",
      "[34] ---> [35]\n",
      "[8] ---> [8]\n",
      "[36] ---> [28]\n",
      "[11] ---> [12]\n",
      "[38] ---> [52]\n",
      "[24] ---> [24]\n",
      "[37] ---> [37]\n",
      "[7] ---> [7]\n",
      "[41] ---> [35]\n",
      "[26] ---> [26]\n",
      "[39] ---> [39]\n",
      "[49] ---> [40]\n",
      "[38] ---> [10]\n",
      "[19] ---> [25]\n",
      "[37] ---> [37]\n",
      "[7] ---> [26]\n",
      "[21] ---> [29]\n",
      "[24] ---> [7]\n",
      "[38] ---> [26]\n",
      "[14] ---> [16]\n",
      "[14] ---> [16]\n",
      "[35] ---> [35]\n",
      "[22] ---> [22]\n",
      "[19] ---> [6]\n",
      "[36] ---> [36]\n",
      "[32] ---> [32]\n",
      "[28] ---> [28]\n",
      "[5] ---> [5]\n",
      "[45] ---> [45]\n",
      "[29] ---> [29]\n",
      "[5] ---> [5]\n",
      "[1] ---> [42]\n",
      "[1] ---> [42]\n",
      "[41] ---> [30]\n",
      "[7] ---> [7]\n",
      "[13] ---> [13]\n",
      "[9] ---> [9]\n",
      "[19] ---> [21]\n",
      "[39] ---> [34]\n",
      "[17] ---> [17]\n",
      "[33] ---> [29]\n",
      "[45] ---> [32]\n",
      "[43] ---> [42]\n",
      "[7] ---> [51]\n",
      "[25] ---> [25]\n",
      "[36] ---> [11]\n",
      "[2] ---> [32]\n",
      "[16] ---> [7]\n",
      "[19] ---> [49]\n",
      "[47] ---> [30]\n",
      "[21] ---> [21]\n",
      "[41] ---> [41]\n",
      "[52] ---> [52]\n",
      "[39] ---> [39]\n",
      "[13] ---> [34]\n",
      "[48] ---> [48]\n",
      "44.61538461538462\n"
     ]
    }
   ],
   "source": [
    "A_test = normalize(X_test, AvgFace) #normalize the test data\n",
    "W_test = calculateWeights(A_test, EigenSpace) #calculate weights of the test data \n",
    "totalErrors = 0\n",
    "for r in range(N_test):\n",
    "    totalErrors += NNClassification(r, y_train, Weights, X_train, y_test, W_test, X_test)\n",
    "E_out = totalErrors/N_test\n",
    "print(E_out*100)"
   ]
  },
  {
   "cell_type": "code",
   "execution_count": 13,
   "metadata": {},
   "outputs": [
    {
     "data": {
      "text/plain": [
       "10"
      ]
     },
     "execution_count": 13,
     "metadata": {},
     "output_type": "execute_result"
    }
   ],
   "source": [
    "len(EigenSpace[0, :])"
   ]
  },
  {
   "cell_type": "markdown",
   "metadata": {},
   "source": [
    "### Alternative Recognition"
   ]
  },
  {
   "cell_type": "code",
   "execution_count": 14,
   "metadata": {},
   "outputs": [],
   "source": [
    "noOfClasses = 52\n",
    "reconstrErrors = np.empty((N_test, noOfClasses))\n",
    "d = {}\n",
    "\n",
    "for i in range(1, noOfClasses+1): #for each class    \n",
    "    d[\"X_train_\" + str(i)] = X_train[np.where(y_train == i)[0]]\n",
    "    N = len(d[\"X_train_\" + str(i)][:,0])\n",
    "    AvgFace, normalized_Input, EigenValues, topEigenVectors = calculateEigenSpace(d[\"X_train_\" + str(i)], M)\n",
    "    #weights = calculateWeights(M, normalized_Input, topEigenVectors)\n",
    "    weight_test = np.matmul(normalize(X_test, AvgFace).T, topEigenVectors)\n",
    "    for index, weight in enumerate(weight_test):\n",
    "        reconstructed_face = AvgFace + np.dot(topEigenVectors, weight.T)\n",
    "        reconstruction_error = calc_eigen.norm(X_test[index] - reconstructed_face)\n",
    "        reconstrErrors[index, i-1] = reconstruction_error "
   ]
  },
  {
   "cell_type": "code",
   "execution_count": 15,
   "metadata": {},
   "outputs": [],
   "source": [
    "total_error = 0\n",
    "for index, face in enumerate(reconstrErrors):\n",
    "    original_class = y_test[index, :]\n",
    "    min_error = face.min()\n",
    "    min_error_index = face.argmin()\n",
    "    #print(original_class, '-->', min_error_index+1)\n",
    "    class_matched = min_error_index+1\n",
    "    if original_class != class_matched:\n",
    "        total_error +=1"
   ]
  },
  {
   "cell_type": "code",
   "execution_count": 16,
   "metadata": {},
   "outputs": [
    {
     "data": {
      "text/plain": [
       "34.61538461538461"
      ]
     },
     "execution_count": 16,
     "metadata": {},
     "output_type": "execute_result"
    }
   ],
   "source": [
    "total_error*100/N_test"
   ]
  },
  {
   "cell_type": "code",
   "execution_count": null,
   "metadata": {},
   "outputs": [],
   "source": []
  },
  {
   "cell_type": "markdown",
   "metadata": {},
   "source": [
    "# PCA-LDA"
   ]
  },
  {
   "cell_type": "code",
   "execution_count": 143,
   "metadata": {},
   "outputs": [],
   "source": [
    "def compute_class_means():\n",
    "    class_means={} #dict containing m1, m2, m3, ... (the mean of each class), as well as the global mean m\n",
    "    for class_i in range(1, 53):\n",
    "        class_means[\"m_\" + str(class_i)] = np.mean(X_train[np.where(y_train == class_i)[0]], axis=0)\n",
    "    class_means[\"m\"] = calculateAverageFace(X_train)\n",
    "    return class_means\n",
    "\n",
    "def compute_S_b(class_means):\n",
    "    S_b = np.empty((2576, 2576))\n",
    "    for class_i in range(1, 53):\n",
    "        S_b += np.dot((class_means[\"m_\" + str(class_i)] - class_means[\"m\"]).reshape(2576,1), (class_means[\"m_\" + str(class_i)] - class_means[\"m\"]).reshape((1, 2576)))\n",
    "    return S_b\n",
    "\n",
    "def compute_S_w(class_means):\n",
    "    S_w = np.empty((2576, 2576))\n",
    "    for class_i in range(1, 53):\n",
    "        for image in X_train[np.where(y_train == class_i)[0]]:\n",
    "            S_w += np.dot((image - class_means[\"m_\" + str(class_i)]).reshape(2576,1), (image - class_means[\"m_\" + str(class_i)]).reshape(1,2576))\n",
    "    return S_w\n",
    "        \n",
    "\n",
    "class_means = compute_class_means()\n",
    "S_b = compute_S_b(class_means)\n",
    "S_w = compute_S_w(class_means)"
   ]
  },
  {
   "cell_type": "code",
   "execution_count": 34,
   "metadata": {},
   "outputs": [],
   "source": [
    "#calculation of W_pca\n",
    "M_pca = 300\n",
    "S_t = S_b + S_w\n",
    "\n",
    "def compute_generalised_eigenvectors(S_w, S_b, M_pca):\n",
    "    eigen_values, W = calculateEigenValuesAndVectors(np.matmul(np.linalg.inv(S_w), S_b))\n",
    "    #plotEigenValueGraph(eigen_values, 100)\n",
    "    W = normalize_vectors(W, axis=0)\n",
    "    \n",
    "    W_pca = eigen_vectors[:, :M_pca]\n",
    "    return W_pca\n",
    "W_pca = compute_generalised_eigenvectors(S_w, S_b, M_pca)"
   ]
  },
  {
   "cell_type": "code",
   "execution_count": 36,
   "metadata": {},
   "outputs": [
    {
     "data": {
      "text/plain": [
       "(2576, 300)"
      ]
     },
     "execution_count": 36,
     "metadata": {},
     "output_type": "execute_result"
    }
   ],
   "source": [
    "W_pca.shape"
   ]
  },
  {
   "cell_type": "code",
   "execution_count": 300,
   "metadata": {},
   "outputs": [],
   "source": [
    "#computation of W_pca.T*S_b*W_pca\n",
    "numerator = np.linalg.multi_dot([W_pca.T, S_b, W_pca])"
   ]
  },
  {
   "cell_type": "code",
   "execution_count": 301,
   "metadata": {},
   "outputs": [],
   "source": [
    "#computation of W_pca.T*S_w*W_pca\n",
    "denominator = np.linalg.multi_dot([W_pca.T, S_w, W_pca])\n"
   ]
  },
  {
   "cell_type": "code",
   "execution_count": 302,
   "metadata": {},
   "outputs": [
    {
     "data": {
      "text/plain": [
       "array([[-0.38641012,  0.03145592, -0.04723829, ...,  0.00918834,\n",
       "         0.00474424,  0.00609441],\n",
       "       [ 0.24708678,  0.19214974,  0.26009318, ...,  0.00923178,\n",
       "         0.01867836,  0.02770675],\n",
       "       [-0.03382165,  0.21104664,  0.28557729, ..., -0.01415152,\n",
       "        -0.00143854, -0.00275681],\n",
       "       ...,\n",
       "       [ 0.0128992 , -0.11113559, -0.11245156, ..., -0.04728313,\n",
       "         0.1389997 ,  0.10793518],\n",
       "       [-0.03177574, -0.05288334,  0.02404768, ...,  0.03112026,\n",
       "         0.04586962,  0.05477009],\n",
       "       [-0.0426729 , -0.01815239, -0.03071619, ...,  0.0027004 ,\n",
       "        -0.00573134,  0.00747621]])"
      ]
     },
     "execution_count": 302,
     "metadata": {},
     "output_type": "execute_result"
    }
   ],
   "source": [
    "M_lda = 100\n",
    "W_lda = compute_generalised_eigenvectors(denominator, numerator, M_lda)\n",
    "W_lda"
   ]
  },
  {
   "cell_type": "code",
   "execution_count": 303,
   "metadata": {},
   "outputs": [],
   "source": [
    "W_opt = np.matmul(W_lda.T, W_pca.T).T"
   ]
  },
  {
   "cell_type": "code",
   "execution_count": 31,
   "metadata": {},
   "outputs": [
    {
     "data": {
      "image/png": "[encoded data removed]",
      "text/plain": [
       "<matplotlib.figure.Figure at 0x12f53f5c978>"
      ]
     },
     "metadata": {},
     "output_type": "display_data"
    }
   ],
   "source": [
    "#W_opt.shape\n",
    "#printImage(W_opt[:,10], \"Reconstructed Face\", \"reconstructed_face2.png\")\n",
    "printImage(X_pca_projected[5], \"Reconstructed Face\", \"reconstructed_face2.png\")\n",
    "#printImage(class_means[\"m\"], \"Reconstructed Face\", \"reconstructed_face2.png\")"
   ]
  },
  {
   "cell_type": "code",
   "execution_count": 288,
   "metadata": {},
   "outputs": [
    {
     "data": {
      "text/plain": [
       "(2576, 2576)"
      ]
     },
     "execution_count": 288,
     "metadata": {},
     "output_type": "execute_result"
    }
   ],
   "source": [
    "S_b.shape"
   ]
  },
  {
   "cell_type": "code",
   "execution_count": 289,
   "metadata": {},
   "outputs": [
    {
     "data": {
      "text/plain": [
       "(2576, 2576)"
      ]
     },
     "execution_count": 289,
     "metadata": {},
     "output_type": "execute_result"
    }
   ],
   "source": [
    "np.matmul(np.linalg.inv(S_w), S_b).shape"
   ]
  },
  {
   "cell_type": "code",
   "execution_count": 306,
   "metadata": {},
   "outputs": [
    {
     "ename": "IndexError",
     "evalue": "index 2549 is out of bounds for axis 0 with size 390",
     "output_type": "error",
     "traceback": [
      "\u001b[1;31m---------------------------------------------------------------------------\u001b[0m",
      "\u001b[1;31mIndexError\u001b[0m                                Traceback (most recent call last)",
      "\u001b[1;32m<ipython-input-306-dfcbd46bdc5b>\u001b[0m in \u001b[0;36m<module>\u001b[1;34m()\u001b[0m\n\u001b[0;32m      3\u001b[0m \u001b[0mtotalErrors\u001b[0m \u001b[1;33m=\u001b[0m \u001b[1;36m0\u001b[0m\u001b[1;33m\u001b[0m\u001b[0m\n\u001b[0;32m      4\u001b[0m \u001b[1;32mfor\u001b[0m \u001b[0mr\u001b[0m \u001b[1;32min\u001b[0m \u001b[0mrange\u001b[0m\u001b[1;33m(\u001b[0m\u001b[0mN_test\u001b[0m\u001b[1;33m)\u001b[0m\u001b[1;33m:\u001b[0m\u001b[1;33m\u001b[0m\u001b[0m\n\u001b[1;32m----> 5\u001b[1;33m     \u001b[0mtotalErrors\u001b[0m \u001b[1;33m+=\u001b[0m \u001b[0mNNClassification\u001b[0m\u001b[1;33m(\u001b[0m\u001b[0mr\u001b[0m\u001b[1;33m,\u001b[0m \u001b[0my_train\u001b[0m\u001b[1;33m,\u001b[0m \u001b[0mW_opt\u001b[0m\u001b[1;33m,\u001b[0m \u001b[0mX_train\u001b[0m\u001b[1;33m,\u001b[0m \u001b[0my_test\u001b[0m\u001b[1;33m,\u001b[0m \u001b[0mW_test\u001b[0m\u001b[1;33m,\u001b[0m \u001b[0mX_test\u001b[0m\u001b[1;33m)\u001b[0m\u001b[1;33m\u001b[0m\u001b[0m\n\u001b[0m\u001b[0;32m      6\u001b[0m \u001b[0mE_out\u001b[0m \u001b[1;33m=\u001b[0m \u001b[0mtotalErrors\u001b[0m\u001b[1;33m/\u001b[0m\u001b[0mN_test\u001b[0m\u001b[1;33m\u001b[0m\u001b[0m\n\u001b[0;32m      7\u001b[0m \u001b[0mprint\u001b[0m\u001b[1;33m(\u001b[0m\u001b[0mE_out\u001b[0m\u001b[1;33m*\u001b[0m\u001b[1;36m100\u001b[0m\u001b[1;33m)\u001b[0m\u001b[1;33m\u001b[0m\u001b[0m\n",
      "\u001b[1;32m<ipython-input-11-938298914172>\u001b[0m in \u001b[0;36mNNClassification\u001b[1;34m(r, y_train, W_train, X_train, y_test, W_test, X_test)\u001b[0m\n\u001b[0;32m     11\u001b[0m     \u001b[0mmin_error\u001b[0m \u001b[1;33m=\u001b[0m \u001b[0merror\u001b[0m\u001b[1;33m.\u001b[0m\u001b[0mmin\u001b[0m\u001b[1;33m(\u001b[0m\u001b[1;33m)\u001b[0m\u001b[1;33m\u001b[0m\u001b[0m\n\u001b[0;32m     12\u001b[0m     \u001b[0mmin_error_index\u001b[0m \u001b[1;33m=\u001b[0m \u001b[0merror\u001b[0m\u001b[1;33m.\u001b[0m\u001b[0margmin\u001b[0m\u001b[1;33m(\u001b[0m\u001b[1;33m)\u001b[0m\u001b[1;33m\u001b[0m\u001b[0m\n\u001b[1;32m---> 13\u001b[1;33m     \u001b[0mface_best_matched\u001b[0m \u001b[1;33m=\u001b[0m \u001b[0mX_train\u001b[0m\u001b[1;33m[\u001b[0m\u001b[0mmin_error_index\u001b[0m\u001b[1;33m,\u001b[0m \u001b[1;33m:\u001b[0m\u001b[1;33m]\u001b[0m\u001b[1;33m\u001b[0m\u001b[0m\n\u001b[0m\u001b[0;32m     14\u001b[0m     \u001b[0mlabel_best_matched\u001b[0m \u001b[1;33m=\u001b[0m \u001b[0my_train\u001b[0m\u001b[1;33m[\u001b[0m\u001b[0mmin_error_index\u001b[0m\u001b[1;33m,\u001b[0m \u001b[1;33m:\u001b[0m\u001b[1;33m]\u001b[0m\u001b[1;33m\u001b[0m\u001b[0m\n\u001b[0;32m     15\u001b[0m     \u001b[1;31m#print(face_test_label, '--->', label_best_matched)\u001b[0m\u001b[1;33m\u001b[0m\u001b[1;33m\u001b[0m\u001b[0m\n",
      "\u001b[1;31mIndexError\u001b[0m: index 2549 is out of bounds for axis 0 with size 390"
     ]
    }
   ],
   "source": [
    "gf = normalize(X_test, AvgFace) #normalize the test data\n",
    "W_test = calculateWeights(gf, W_opt) #calculate weights of the test data \n",
    "totalErrors = 0\n",
    "for r in range(N_test):\n",
    "    totalErrors += NNClassification(r, y_train, W_opt, X_train, y_test, W_test, X_test)\n",
    "E_out = totalErrors/N_test\n",
    "print(E_out*100)"
   ]
  },
  {
   "cell_type": "code",
   "execution_count": 311,
   "metadata": {},
   "outputs": [
    {
     "ename": "NameError",
     "evalue": "name 'S' is not defined",
     "output_type": "error",
     "traceback": [
      "\u001b[1;31m---------------------------------------------------------------------------\u001b[0m",
      "\u001b[1;31mNameError\u001b[0m                                 Traceback (most recent call last)",
      "\u001b[1;32m<ipython-input-311-6956595fab2f>\u001b[0m in \u001b[0;36m<module>\u001b[1;34m()\u001b[0m\n\u001b[1;32m----> 1\u001b[1;33m \u001b[0mS\u001b[0m\u001b[1;33m.\u001b[0m\u001b[0mshape\u001b[0m\u001b[1;33m\u001b[0m\u001b[0m\n\u001b[0m",
      "\u001b[1;31mNameError\u001b[0m: name 'S' is not defined"
     ]
    }
   ],
   "source": [
    "S.shape"
   ]
  },
  {
   "cell_type": "code",
   "execution_count": 7,
   "metadata": {},
   "outputs": [],
   "source": [
    "S = calculateLowDimCovarianceMatrix(A)\n",
    "eigen_values, eigen_vectors = calculateEigenValuesAndVectors(S)\n",
    "eigen_vectors = normalize_vectors(np.matmul(A, eigen_vectors), axis=0)"
   ]
  },
  {
   "cell_type": "code",
   "execution_count": 8,
   "metadata": {},
   "outputs": [
    {
     "data": {
      "text/plain": [
       "(2576, 390)"
      ]
     },
     "execution_count": 8,
     "metadata": {},
     "output_type": "execute_result"
    }
   ],
   "source": [
    "eigen_vectors.shape"
   ]
  },
  {
   "cell_type": "code",
   "execution_count": 9,
   "metadata": {},
   "outputs": [
    {
     "data": {
      "text/plain": [
       "(2576, 100)"
      ]
     },
     "execution_count": 9,
     "metadata": {},
     "output_type": "execute_result"
    }
   ],
   "source": [
    "M = 100\n",
    "top_eigen_vectors = eigen_vectors[:, :M]\n",
    "\n",
    "\n",
    "AvgFace, A, EigenValues, EigenSpace = calculateEigenSpace(X_train, M)\n",
    "EigenSpace.shape"
   ]
  },
  {
   "cell_type": "code",
   "execution_count": 10,
   "metadata": {},
   "outputs": [],
   "source": [
    "Weights =  calculateWeights(A, EigenSpace)"
   ]
  },
  {
   "cell_type": "code",
   "execution_count": null,
   "metadata": {},
   "outputs": [],
   "source": []
  },
  {
   "cell_type": "code",
   "execution_count": null,
   "metadata": {},
   "outputs": [],
   "source": []
  },
  {
   "cell_type": "code",
   "execution_count": null,
   "metadata": {},
   "outputs": [],
   "source": []
  },
  {
   "cell_type": "code",
   "execution_count": 88,
   "metadata": {},
   "outputs": [],
   "source": [
    "file_path = 'face(1).mat'\n",
    "M_pca = 300 \n",
    "testRatio = 0.25\n",
    "\n",
    "X_train, y_train, N_train, X_test, y_test, N_test = extractTrainAndTestData(file_path, testRatio)\n",
    "\n",
    "def calculateEigenSpace(X_train, M):\n",
    "    AvgFace = calculateAverageFace(X_train)\n",
    "    A = normalize(X_train, AvgFace)\n",
    "    S = calculateLowDimCovarianceMatrix(A)\n",
    "    eigen_values, eigen_vectors = calculateEigenValuesAndVectors(S)\n",
    "    eigen_vectors = normalize_vectors(np.matmul(A, eigen_vectors), axis=0)\n",
    "    top_eigen_vectors = eigen_vectors[:, :M]\n",
    "    return AvgFace, A, eigen_values, top_eigen_vectors\n",
    "\n",
    "AvgFace, A, EigenValues, EigenSpace = calculateEigenSpace(X_train, M_pca)\n",
    "Weights =  calculateWeights(A, EigenSpace)\n",
    "W_pca = EigenSpace"
   ]
  },
  {
   "cell_type": "code",
   "execution_count": 89,
   "metadata": {},
   "outputs": [
    {
     "data": {
      "text/plain": [
       "(2576, 300)"
      ]
     },
     "execution_count": 89,
     "metadata": {},
     "output_type": "execute_result"
    }
   ],
   "source": [
    "EigenSpace.shape"
   ]
  },
  {
   "cell_type": "code",
   "execution_count": 142,
   "metadata": {},
   "outputs": [
    {
     "ename": "ValueError",
     "evalue": "operands could not be broadcast together with shapes (2576,) (300,) ",
     "output_type": "error",
     "traceback": [
      "\u001b[1;31m---------------------------------------------------------------------------\u001b[0m",
      "\u001b[1;31mValueError\u001b[0m                                Traceback (most recent call last)",
      "\u001b[1;32m<ipython-input-142-371e04555f46>\u001b[0m in \u001b[0;36m<module>\u001b[1;34m()\u001b[0m\n\u001b[0;32m     21\u001b[0m \u001b[1;33m\u001b[0m\u001b[0m\n\u001b[0;32m     22\u001b[0m \u001b[0mclass_means\u001b[0m \u001b[1;33m=\u001b[0m \u001b[0mcompute_class_means\u001b[0m\u001b[1;33m(\u001b[0m\u001b[1;33m)\u001b[0m\u001b[1;33m\u001b[0m\u001b[0m\n\u001b[1;32m---> 23\u001b[1;33m \u001b[0mS_b\u001b[0m \u001b[1;33m=\u001b[0m \u001b[0mcompute_S_b\u001b[0m\u001b[1;33m(\u001b[0m\u001b[0mclass_means\u001b[0m\u001b[1;33m,\u001b[0m \u001b[0mM_pca\u001b[0m\u001b[1;33m)\u001b[0m\u001b[1;33m\u001b[0m\u001b[0m\n\u001b[0m\u001b[0;32m     24\u001b[0m \u001b[0mS_w\u001b[0m \u001b[1;33m=\u001b[0m \u001b[0mcompute_S_w\u001b[0m\u001b[1;33m(\u001b[0m\u001b[0mclass_means\u001b[0m\u001b[1;33m,\u001b[0m \u001b[0mM_pca\u001b[0m\u001b[1;33m)\u001b[0m\u001b[1;33m\u001b[0m\u001b[0m\n",
      "\u001b[1;32m<ipython-input-142-371e04555f46>\u001b[0m in \u001b[0;36mcompute_S_b\u001b[1;34m(class_means, M_pca)\u001b[0m\n\u001b[0;32m      9\u001b[0m     \u001b[0mS_b\u001b[0m \u001b[1;33m=\u001b[0m \u001b[0mnp\u001b[0m\u001b[1;33m.\u001b[0m\u001b[0mempty\u001b[0m\u001b[1;33m(\u001b[0m\u001b[1;33m(\u001b[0m\u001b[1;36m2576\u001b[0m\u001b[1;33m,\u001b[0m \u001b[1;36m2576\u001b[0m\u001b[1;33m)\u001b[0m\u001b[1;33m)\u001b[0m\u001b[1;33m\u001b[0m\u001b[0m\n\u001b[0;32m     10\u001b[0m     \u001b[1;32mfor\u001b[0m \u001b[0mclass_i\u001b[0m \u001b[1;32min\u001b[0m \u001b[0mrange\u001b[0m\u001b[1;33m(\u001b[0m\u001b[1;36m1\u001b[0m\u001b[1;33m,\u001b[0m \u001b[1;36m53\u001b[0m\u001b[1;33m)\u001b[0m\u001b[1;33m:\u001b[0m\u001b[1;33m\u001b[0m\u001b[0m\n\u001b[1;32m---> 11\u001b[1;33m         \u001b[0mS_b\u001b[0m \u001b[1;33m+=\u001b[0m \u001b[0mnp\u001b[0m\u001b[1;33m.\u001b[0m\u001b[0mdot\u001b[0m\u001b[1;33m(\u001b[0m\u001b[1;33m(\u001b[0m\u001b[0mclass_means\u001b[0m\u001b[1;33m[\u001b[0m\u001b[1;34m\"m_\"\u001b[0m \u001b[1;33m+\u001b[0m \u001b[0mstr\u001b[0m\u001b[1;33m(\u001b[0m\u001b[0mclass_i\u001b[0m\u001b[1;33m)\u001b[0m\u001b[1;33m]\u001b[0m \u001b[1;33m-\u001b[0m \u001b[0mclass_means\u001b[0m\u001b[1;33m[\u001b[0m\u001b[1;34m\"m\"\u001b[0m\u001b[1;33m]\u001b[0m\u001b[1;33m)\u001b[0m\u001b[1;33m.\u001b[0m\u001b[0mreshape\u001b[0m\u001b[1;33m(\u001b[0m\u001b[1;36m2576\u001b[0m\u001b[1;33m,\u001b[0m\u001b[1;36m1\u001b[0m\u001b[1;33m)\u001b[0m\u001b[1;33m,\u001b[0m \u001b[1;33m(\u001b[0m\u001b[0mclass_means\u001b[0m\u001b[1;33m[\u001b[0m\u001b[1;34m\"m_\"\u001b[0m \u001b[1;33m+\u001b[0m \u001b[0mstr\u001b[0m\u001b[1;33m(\u001b[0m\u001b[0mclass_i\u001b[0m\u001b[1;33m)\u001b[0m\u001b[1;33m]\u001b[0m \u001b[1;33m-\u001b[0m \u001b[0mclass_means\u001b[0m\u001b[1;33m[\u001b[0m\u001b[1;34m\"m\"\u001b[0m\u001b[1;33m]\u001b[0m\u001b[1;33m)\u001b[0m\u001b[1;33m.\u001b[0m\u001b[0mreshape\u001b[0m\u001b[1;33m(\u001b[0m\u001b[1;33m(\u001b[0m\u001b[1;36m1\u001b[0m\u001b[1;33m,\u001b[0m \u001b[1;36m2576\u001b[0m\u001b[1;33m)\u001b[0m\u001b[1;33m)\u001b[0m\u001b[1;33m)\u001b[0m\u001b[1;33m\u001b[0m\u001b[0m\n\u001b[0m\u001b[0;32m     12\u001b[0m     \u001b[1;32mreturn\u001b[0m \u001b[0mS_b\u001b[0m\u001b[1;33m\u001b[0m\u001b[0m\n\u001b[0;32m     13\u001b[0m \u001b[1;33m\u001b[0m\u001b[0m\n",
      "\u001b[1;31mValueError\u001b[0m: operands could not be broadcast together with shapes (2576,) (300,) "
     ]
    }
   ],
   "source": [
    "def compute_class_means():\n",
    "    class_means={} #dict containing m1, m2, m3, ... (the mean of each class), as well as the global mean m\n",
    "    for class_i in range(1, 53):\n",
    "        class_means[\"m_\" + str(class_i)] = np.mean(X_train[np.where(y_train == class_i)[0]], axis=0)\n",
    "    class_means[\"m\"] = calculateAverageFace(W_pca)\n",
    "    return class_means\n",
    "\n",
    "def compute_S_b(class_means, M_pca):\n",
    "    S_b = np.empty((2576, 2576))\n",
    "    for class_i in range(1, 53):\n",
    "        S_b += np.dot((class_means[\"m_\" + str(class_i)] - class_means[\"m\"]).reshape(2576,1), (class_means[\"m_\" + str(class_i)] - class_means[\"m\"]).reshape((1, 2576)))\n",
    "    return S_b\n",
    "\n",
    "def compute_S_w(class_means, M_pca):\n",
    "    S_w = np.empty((2576, 2576))\n",
    "    for class_i in range(1, 53):\n",
    "        for image in X_train[np.where(y_train == class_i)[0]]:\n",
    "            S_w += np.dot((image - class_means[\"m_\" + str(class_i)]).reshape(2576,1), (image - class_means[\"m_\" + str(class_i)]).reshape(1,2576))\n",
    "    return S_w\n",
    "        \n",
    "\n",
    "class_means = compute_class_means()\n",
    "S_b = compute_S_b(class_means, M_pca)\n",
    "S_w = compute_S_w(class_means, M_pca)"
   ]
  },
  {
   "cell_type": "code",
   "execution_count": 146,
   "metadata": {},
   "outputs": [],
   "source": [
    "#computation of W_pca.T*S_b*W_pca\n",
    "numerator = np.linalg.multi_dot([W_pca.T, S_b, W_pca])"
   ]
  },
  {
   "cell_type": "code",
   "execution_count": 147,
   "metadata": {},
   "outputs": [],
   "source": [
    "#computation of W_pca.T*S_w*W_pca\n",
    "denominator = np.linalg.multi_dot([W_pca.T, S_w, W_pca])"
   ]
  },
  {
   "cell_type": "code",
   "execution_count": 148,
   "metadata": {},
   "outputs": [
    {
     "data": {
      "text/plain": [
       "(300, 300)"
      ]
     },
     "execution_count": 148,
     "metadata": {},
     "output_type": "execute_result"
    }
   ],
   "source": [
    "denominator.shape"
   ]
  },
  {
   "cell_type": "code",
   "execution_count": 149,
   "metadata": {},
   "outputs": [
    {
     "data": {
      "text/plain": [
       "array([[-4.77541716e-01,  3.69393754e-01, -1.45196041e-01, ...,\n",
       "         7.08486509e-04,  5.91261604e-04,  1.43905707e-04],\n",
       "       [-1.28711429e-01, -1.42031453e-01, -1.22353372e-01, ...,\n",
       "         8.97343708e-04,  1.36264626e-03,  7.97694300e-04],\n",
       "       [ 7.92314406e-02,  2.74522245e-01,  3.41963472e-01, ...,\n",
       "         8.55692592e-04,  2.73773133e-03, -2.62606425e-04],\n",
       "       ...,\n",
       "       [-1.02371186e-01,  2.59980941e-02,  4.01591368e-02, ...,\n",
       "        -4.29585231e-02,  1.85105060e-02, -9.51960128e-03],\n",
       "       [ 2.90175975e-02,  1.25644832e-01,  3.60096397e-02, ...,\n",
       "         3.67827868e-02, -3.99231802e-02,  3.27187963e-02],\n",
       "       [-9.22140363e-02,  3.16311497e-02,  1.09818138e-02, ...,\n",
       "        -4.46230636e-02,  6.16210836e-02, -1.56679425e-01]])"
      ]
     },
     "execution_count": 149,
     "metadata": {},
     "output_type": "execute_result"
    }
   ],
   "source": [
    "M_lda = 100\n",
    "W_lda = compute_generalised_eigenvectors(denominator, numerator, M_lda)\n",
    "W_lda"
   ]
  },
  {
   "cell_type": "code",
   "execution_count": 150,
   "metadata": {},
   "outputs": [
    {
     "data": {
      "text/plain": [
       "(300, 100)"
      ]
     },
     "execution_count": 150,
     "metadata": {},
     "output_type": "execute_result"
    }
   ],
   "source": [
    "W_lda.shape"
   ]
  },
  {
   "cell_type": "code",
   "execution_count": 152,
   "metadata": {},
   "outputs": [],
   "source": [
    "#asdf = np.matmul(W_pca.T, X_train)\n",
    "#b = np.matmul(W_lda.T, X_train)\n",
    "#W_opt = (np.dot(b, asdf.T)).T\n",
    "\n",
    "W_opt = np.matmul(W_lda.T, W_pca.T).T"
   ]
  },
  {
   "cell_type": "code",
   "execution_count": 161,
   "metadata": {},
   "outputs": [
    {
     "data": {
      "text/plain": [
       "(2576, 100)"
      ]
     },
     "execution_count": 161,
     "metadata": {},
     "output_type": "execute_result"
    }
   ],
   "source": [
    "W_opt.shape"
   ]
  },
  {
   "cell_type": "code",
   "execution_count": 166,
   "metadata": {},
   "outputs": [],
   "source": [
    "W_train = np.matmul(W_opt.T, X_train.T)"
   ]
  },
  {
   "cell_type": "code",
   "execution_count": 109,
   "metadata": {},
   "outputs": [
    {
     "ename": "ValueError",
     "evalue": "shapes (100,2576) and (300,390) not aligned: 2576 (dim 1) != 300 (dim 0)",
     "output_type": "error",
     "traceback": [
      "\u001b[1;31m---------------------------------------------------------------------------\u001b[0m",
      "\u001b[1;31mValueError\u001b[0m                                Traceback (most recent call last)",
      "\u001b[1;32m<ipython-input-109-98e63a273991>\u001b[0m in \u001b[0;36m<module>\u001b[1;34m()\u001b[0m\n\u001b[1;32m----> 1\u001b[1;33m \u001b[0mabc\u001b[0m \u001b[1;33m=\u001b[0m \u001b[0mnp\u001b[0m\u001b[1;33m.\u001b[0m\u001b[0mmatmul\u001b[0m\u001b[1;33m(\u001b[0m\u001b[0mW_lda\u001b[0m\u001b[1;33m.\u001b[0m\u001b[0mT\u001b[0m\u001b[1;33m,\u001b[0m \u001b[0mWeights\u001b[0m\u001b[1;33m.\u001b[0m\u001b[0mT\u001b[0m\u001b[1;33m)\u001b[0m\u001b[1;33m\u001b[0m\u001b[0m\n\u001b[0m",
      "\u001b[1;31mValueError\u001b[0m: shapes (100,2576) and (300,390) not aligned: 2576 (dim 1) != 300 (dim 0)"
     ]
    }
   ],
   "source": [
    "abc = np.matmul(W_lda.T, Weights.T)"
   ]
  },
  {
   "cell_type": "code",
   "execution_count": 157,
   "metadata": {},
   "outputs": [
    {
     "data": {
      "image/png": "[encoded data removed]",
      "text/plain": [
       "<matplotlib.figure.Figure at 0x12f5411b048>"
      ]
     },
     "metadata": {},
     "output_type": "display_data"
    }
   ],
   "source": [
    "printImage(W_opt[:,1], \"Reconstructed Face\", \"reconstructed_face2.png\")"
   ]
  },
  {
   "cell_type": "code",
   "execution_count": 164,
   "metadata": {},
   "outputs": [
    {
     "data": {
      "text/plain": [
       "(100, 130)"
      ]
     },
     "execution_count": 164,
     "metadata": {},
     "output_type": "execute_result"
    }
   ],
   "source": [
    "W_test.shape"
   ]
  },
  {
   "cell_type": "code",
   "execution_count": 182,
   "metadata": {},
   "outputs": [
    {
     "name": "stdout",
     "output_type": "stream",
     "text": [
      "[23] ---> [23]\n",
      "[17] ---> [17]\n",
      "[25] ---> [29]\n",
      "[14] ---> [14]\n",
      "[10] ---> [10]\n",
      "[2] ---> [13]\n",
      "[21] ---> [21]\n",
      "[18] ---> [18]\n",
      "[2] ---> [8]\n",
      "[34] ---> [34]\n",
      "[49] ---> [36]\n",
      "[24] ---> [24]\n",
      "[10] ---> [10]\n",
      "[26] ---> [26]\n",
      "[40] ---> [41]\n",
      "[12] ---> [12]\n",
      "[27] ---> [27]\n",
      "[43] ---> [4]\n",
      "[21] ---> [21]\n",
      "[51] ---> [51]\n",
      "[43] ---> [43]\n",
      "[21] ---> [21]\n",
      "[27] ---> [49]\n",
      "[15] ---> [22]\n",
      "[8] ---> [8]\n",
      "[11] ---> [11]\n",
      "[16] ---> [16]\n",
      "[8] ---> [8]\n",
      "[20] ---> [20]\n",
      "[23] ---> [23]\n",
      "[7] ---> [7]\n",
      "[42] ---> [42]\n",
      "[51] ---> [25]\n",
      "[38] ---> [38]\n",
      "[14] ---> [14]\n",
      "[48] ---> [29]\n",
      "[50] ---> [50]\n",
      "[7] ---> [6]\n",
      "[28] ---> [28]\n",
      "[4] ---> [4]\n",
      "[45] ---> [45]\n",
      "[4] ---> [4]\n",
      "[34] ---> [34]\n",
      "[9] ---> [9]\n",
      "[40] ---> [40]\n",
      "[35] ---> [35]\n",
      "[51] ---> [51]\n",
      "[29] ---> [47]\n",
      "[40] ---> [40]\n",
      "[6] ---> [6]\n",
      "[24] ---> [24]\n",
      "[49] ---> [49]\n",
      "[39] ---> [39]\n",
      "[46] ---> [11]\n",
      "[19] ---> [4]\n",
      "[47] ---> [30]\n",
      "[30] ---> [46]\n",
      "[3] ---> [3]\n",
      "[14] ---> [20]\n",
      "[27] ---> [29]\n",
      "[51] ---> [51]\n",
      "[3] ---> [3]\n",
      "[8] ---> [8]\n",
      "[14] ---> [14]\n",
      "[37] ---> [37]\n",
      "[18] ---> [20]\n",
      "[3] ---> [3]\n",
      "[13] ---> [13]\n",
      "[49] ---> [6]\n",
      "[7] ---> [10]\n",
      "[12] ---> [12]\n",
      "[15] ---> [22]\n",
      "[30] ---> [29]\n",
      "[1] ---> [1]\n",
      "[34] ---> [35]\n",
      "[8] ---> [8]\n",
      "[36] ---> [28]\n",
      "[11] ---> [11]\n",
      "[38] ---> [38]\n",
      "[24] ---> [24]\n",
      "[37] ---> [37]\n",
      "[7] ---> [7]\n",
      "[41] ---> [35]\n",
      "[26] ---> [26]\n",
      "[39] ---> [39]\n",
      "[49] ---> [30]\n",
      "[38] ---> [38]\n",
      "[19] ---> [47]\n",
      "[37] ---> [37]\n",
      "[7] ---> [7]\n",
      "[21] ---> [29]\n",
      "[24] ---> [10]\n",
      "[38] ---> [26]\n",
      "[14] ---> [16]\n",
      "[14] ---> [14]\n",
      "[35] ---> [40]\n",
      "[22] ---> [22]\n",
      "[19] ---> [24]\n",
      "[36] ---> [36]\n",
      "[32] ---> [32]\n",
      "[28] ---> [28]\n",
      "[5] ---> [5]\n",
      "[45] ---> [45]\n",
      "[29] ---> [29]\n",
      "[5] ---> [5]\n",
      "[1] ---> [42]\n",
      "[1] ---> [42]\n",
      "[41] ---> [41]\n",
      "[7] ---> [7]\n",
      "[13] ---> [13]\n",
      "[9] ---> [9]\n",
      "[19] ---> [21]\n",
      "[39] ---> [39]\n",
      "[17] ---> [17]\n",
      "[33] ---> [30]\n",
      "[45] ---> [45]\n",
      "[43] ---> [42]\n",
      "[7] ---> [7]\n",
      "[25] ---> [25]\n",
      "[36] ---> [11]\n",
      "[2] ---> [2]\n",
      "[16] ---> [18]\n",
      "[19] ---> [18]\n",
      "[47] ---> [30]\n",
      "[21] ---> [21]\n",
      "[41] ---> [41]\n",
      "[52] ---> [52]\n",
      "[39] ---> [39]\n",
      "[13] ---> [34]\n",
      "[48] ---> [48]\n",
      "33.84615384615385\n"
     ]
    }
   ],
   "source": [
    "W_test = np.dot(W_opt.T, X_test.T) #calculate weights of the test data \n",
    "totalErrors = 0\n",
    "for r in range(N_test):\n",
    "    totalErrors += NNClassification(r, y_train, W_train.T, X_train, y_test, W_test.T, X_test)\n",
    "E_out = totalErrors/N_test\n",
    "print(E_out*100)"
   ]
  },
  {
   "cell_type": "code",
   "execution_count": 176,
   "metadata": {},
   "outputs": [
    {
     "data": {
      "text/plain": [
       "(100, 390)"
      ]
     },
     "execution_count": 176,
     "metadata": {},
     "output_type": "execute_result"
    }
   ],
   "source": [
    "W_train.shape"
   ]
  },
  {
   "cell_type": "code",
   "execution_count": 85,
   "metadata": {},
   "outputs": [
    {
     "data": {
      "text/plain": [
       "(390, 300)"
      ]
     },
     "execution_count": 85,
     "metadata": {},
     "output_type": "execute_result"
    }
   ],
   "source": [
    "W_pca.shape"
   ]
  },
  {
   "cell_type": "code",
   "execution_count": null,
   "metadata": {},
   "outputs": [],
   "source": [
    "def NNClassificationTrainFisher(r, \n",
    "                     y_train, W_train, X_train, \n",
    "                     y_test, W_test, X_test):\n",
    "    error = np.empty(( len(W_train[:, 0]) ))\n",
    "    for index, weight in enumerate(W_train): \n",
    "        error[index] = calc_eigen.norm(weight_test - weight)\n",
    "    min_error = error.min()\n",
    "    min_error_index = error.argmin()\n",
    "    face_best_matched = X_train[min_error_index, :]\n",
    "    label_best_matched = y_train[min_error_index, :]\n",
    "    #print(face_test_label, '--->', label_best_matched)\n",
    "    if label_best_matched != face_test_label:\n",
    "        return 1\n",
    "    else:\n",
    "        return 0"
   ]
  }
 ],
 "metadata": {
  "kernelspec": {
   "display_name": "Python 3",
   "language": "python",
   "name": "python3"
  },
  "language_info": {
   "codemirror_mode": {
    "name": "ipython",
    "version": 3
   },
   "file_extension": ".py",
   "mimetype": "text/x-python",
   "name": "python",
   "nbconvert_exporter": "python",
   "pygments_lexer": "ipython3",
   "version": "3.6.4"
  }
 },
 "nbformat": 4,
 "nbformat_minor": 2
}
