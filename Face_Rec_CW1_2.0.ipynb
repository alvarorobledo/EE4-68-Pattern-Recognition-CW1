{
 "cells": [
  {
   "cell_type": "code",
   "execution_count": 1,
   "metadata": {},
   "outputs": [],
   "source": [
    "import scipy.io\n",
    "import numpy as np\n",
    "import matplotlib.pyplot as plt\n",
    "from numpy import linalg as calc_eigen\n",
    "from sklearn.model_selection import train_test_split"
   ]
  },
  {
   "cell_type": "code",
   "execution_count": 107,
   "metadata": {},
   "outputs": [],
   "source": [
    "def extractTrainAndTestData(file_path, r):\n",
    "    \"\"\"\n",
    "    takes images and labels as input\n",
    "    outputs training data and test data\n",
    "    \"\"\"\n",
    "    mat = scipy.io.loadmat(file_path)\n",
    "    X_train, X_test, y_train, y_test = train_test_split(mat['X'].T, mat['l'].T, test_size= r, random_state=19)\n",
    "    N_train = len(X_train[:,0])\n",
    "    N_test = len(X_test[:,0])\n",
    "    return X_train, y_train, N_train, X_test, y_test, N_test\n",
    "\n",
    "def calculateAverageFace(X):\n",
    "    \"\"\"\n",
    "    takes the training data set as input \n",
    "    and returns the average face\n",
    "    \"\"\"\n",
    "    average_face= np.mean(X, axis=0)\n",
    "    #plt.figure()\n",
    "    #plt.title(\"Average Face\")\n",
    "    #plt.imshow(np.resize(average_face, (46, 56)).T, cmap='gray')\n",
    "    return average_face\n",
    "\n",
    "def normalize(X, AvgFace):\n",
    "    \"\"\"\n",
    "    takes the training data set and average face as input \n",
    "    and returns the normalized training data set\n",
    "\n",
    "    \"\"\"\n",
    "    N = len(X[:,0])\n",
    "    Q = np.empty((N,2576))\n",
    "    for index, face in enumerate(X):\n",
    "        Q[index] = face - AvgFace\n",
    "    return Q.T\n",
    "\n",
    "def calculateCovarianceMatrix(Q):\n",
    "    return np.matmul(Q,Q.T)/len(Q[0,:])\n",
    "\n",
    "def calculateEigenValuesAndVectors(S):\n",
    "    \"\"\"\n",
    "    Takes covariance matrix as input\n",
    "    and returns eigen values and vectors\n",
    "    \"\"\"\n",
    "    v, w =  calc_eigen.eigh(S)\n",
    "    #eigen_vectors[:,i] --> eigen_values[i]\n",
    "    #eigen vector corresponding to eigen value\n",
    "\n",
    "    #flips left to right... ascending to descending\n",
    "    v = np.flip(v, axis=0) #turn ascending into descending\n",
    "    w = np.flip(w, axis=1) #turn ascending into descending\n",
    "    return v, w\n",
    "\n",
    "def plotEigenValueGraph(v):\n",
    "    y_points = [value for value in v]\n",
    "    x_points = [i for i in range(len(v))]\n",
    "    plt.plot(x_points, y_points)\n",
    "    plt.show()\n",
    "    \n",
    "def calculateWeights(M, Q, U):\n",
    "    N = len(Q[0,:])\n",
    "    W = np.empty((N,M))\n",
    "    for index, image in enumerate(Q.T):\n",
    "        W[index] = np.matmul(image, U)\n",
    "    return W\n",
    "\n",
    "def calculateWeights2(M, Q, U):\n",
    "    N = len(Q[0,:])\n",
    "    W2 = np.empty((N,M))\n",
    "    W2 = np.matmul(Q.T, top_eigen_vectors)\n",
    "    return W2\n",
    "\n",
    "def printImage(face):\n",
    "    plt.figure()\n",
    "    plt.imshow(np.resize(face, (46, 56)).T, cmap='gray')"
   ]
  },
  {
   "cell_type": "code",
   "execution_count": 106,
   "metadata": {},
   "outputs": [
    {
     "data": {
      "image/png": "[encoded data removed]",
      "text/plain": [
       "<Figure size 432x288 with 1 Axes>"
      ]
     },
     "metadata": {
      "needs_background": "light"
     },
     "output_type": "display_data"
    }
   ],
   "source": [
    "file_path = 'face(1).mat'\n",
    "M = 200\n",
    "testRatio = 0.20\n",
    "\n",
    "X_train, y_train, N_train, X_test, y_test, N_test = extractTrainAndTestData(file_path, testRatio)\n",
    "\n",
    "def calculateEigenSpace(X_train, M):\n",
    "    AvgFace = calculateAverageFace(X_train)\n",
    "    A = normalize(X_train, AvgFace)\n",
    "    S = calculateCovarianceMatrix(A)\n",
    "    eigen_values, eigen_vectors = calculateEigenValuesAndVectors(S)\n",
    "    top_eigen_vectors = eigen_vectors[:, :M]\n",
    "    return AvgFace, A, top_eigen_vectors\n",
    "\n",
    "AvgFace, A, EigenSpace = calculateEigenSpace(X_train, M)\n",
    "Weights =  calculateWeights(M, A, EigenSpace)"
   ]
  },
  {
   "cell_type": "markdown",
   "metadata": {},
   "source": [
    "### Reconstruction"
   ]
  },
  {
   "cell_type": "code",
   "execution_count": 24,
   "metadata": {},
   "outputs": [],
   "source": [
    "def reconstruction(weight, average_face, w):\n",
    "    return (average_face + np.dot(w, weight.T))"
   ]
  },
  {
   "cell_type": "code",
   "execution_count": 25,
   "metadata": {},
   "outputs": [],
   "source": [
    "# picking one face and it's corresponding weight for reconstruction\n",
    "random_index = 5\n",
    "face_to_be_reconstructed = X_train[random_index, :]\n",
    "weights_of_face_to_be_reconstructed = Weights[random_index, :]"
   ]
  },
  {
   "cell_type": "code",
   "execution_count": 26,
   "metadata": {},
   "outputs": [
    {
     "data": {
      "image/png": "[encoded data removed]",
      "text/plain": [
       "<Figure size 432x288 with 1 Axes>"
      ]
     },
     "metadata": {
      "needs_background": "light"
     },
     "output_type": "display_data"
    },
    {
     "data": {
      "image/png": "[encoded data removed]",
      "text/plain": [
       "<Figure size 432x288 with 1 Axes>"
      ]
     },
     "metadata": {
      "needs_background": "light"
     },
     "output_type": "display_data"
    }
   ],
   "source": [
    "reconstructed_face = reconstruction(weights_of_face_to_be_reconstructed, AvgFace, EigenSpace)\n",
    "printImage(face_to_be_reconstructed)\n",
    "printImage(reconstructed_face)"
   ]
  },
  {
   "cell_type": "markdown",
   "metadata": {},
   "source": [
    "### Recognition"
   ]
  },
  {
   "cell_type": "code",
   "execution_count": 27,
   "metadata": {},
   "outputs": [],
   "source": [
    "def NNClassification(r, \n",
    "                     y_train, W_train, X_train, \n",
    "                     y_test, W_test, X_test):\n",
    "    \n",
    "    weight_test = W_test[r, :]\n",
    "    face_test = X_test[r, :]\n",
    "    face_test_label = y_test[r, :]\n",
    "    error = np.empty(( len(W_train[:, 0]) ))\n",
    "    for index, weight in enumerate(W_train): \n",
    "        error[index] = calc_eigen.norm(weight_test - weight)\n",
    "    min_error = error.min()\n",
    "    min_error_index = error.argmin()\n",
    "    face_best_matched = X_train[min_error_index, :]\n",
    "    label_best_matched = y_train[min_error_index, :]\n",
    "    #print(face_test_label, '--->', label_best_matched)\n",
    "    if label_best_matched != face_test_label:\n",
    "        return 1\n",
    "    else:\n",
    "        return 0"
   ]
  },
  {
   "cell_type": "code",
   "execution_count": 28,
   "metadata": {},
   "outputs": [
    {
     "name": "stdout",
     "output_type": "stream",
     "text": [
      "39.42307692307692\n"
     ]
    }
   ],
   "source": [
    "A_test = normalize(X_test, AvgFace) #normalize the test data\n",
    "W_test = calculateWeights(M, A_test, EigenSpace) #calculate weights of the test data \n",
    "totalErrors = 0\n",
    "for r in range(N_test):\n",
    "    totalErrors += NNClassification(r, y_train, Weights, X_train, y_test, W_test, X_test)\n",
    "E_out = totalErrors/N_test\n",
    "print(E_out*100)"
   ]
  },
  {
   "cell_type": "markdown",
   "metadata": {},
   "source": [
    "### Alternative Recognition"
   ]
  },
  {
   "cell_type": "code",
   "execution_count": 135,
   "metadata": {},
   "outputs": [],
   "source": [
    "noOfClasses = 52\n",
    "reconstrErrors = np.empty((N_test, noOfClasses))\n",
    "d = {}\n",
    "\n",
    "for i in range(1, noOfClasses+1): #for each class    \n",
    "    d[\"X_train_\" + str(i)] = X_train[np.where(y_train == i)[0]]\n",
    "    N = len(d[\"X_train_\" + str(i)][:,0])\n",
    "    AvgFace, normalized_Input, topEigenVectors = calculateEigenSpace(d[\"X_train_\" + str(i)], M)\n",
    "    #weights = calculateWeights(M, normalized_Input, topEigenVectors)\n",
    "    weight_test = np.matmul(normalize(X_test, AvgFace).T, topEigenVectors)\n",
    "    for index, weight in enumerate(weight_test):\n",
    "        reconstructed_face = AvgFace + np.dot(topEigenVectors, weight.T)\n",
    "        reconstruction_error = calc_eigen.norm(X_test[index] - reconstructed_face)\n",
    "        reconstrErrors[index, i-1] = reconstruction_error "
   ]
  },
  {
   "cell_type": "code",
   "execution_count": 136,
   "metadata": {},
   "outputs": [],
   "source": [
    "total_error = 0\n",
    "for index, face in enumerate(reconstrErrors):\n",
    "    original_class = y_test[index, :]\n",
    "    min_error = face.min()\n",
    "    min_error_index = face.argmin()\n",
    "    #print(original_class, '-->', min_error_index+1)\n",
    "    class_matched = min_error_index+1\n",
    "    if original_class != class_matched:\n",
    "        total_error +=1"
   ]
  },
  {
   "cell_type": "code",
   "execution_count": 134,
   "metadata": {},
   "outputs": [
    {
     "data": {
      "text/plain": [
       "26.923076923076923"
      ]
     },
     "execution_count": 134,
     "metadata": {},
     "output_type": "execute_result"
    }
   ],
   "source": [
    "total_error*100/N_test"
   ]
  },
  {
   "cell_type": "code",
   "execution_count": null,
   "metadata": {},
   "outputs": [],
   "source": []
  }
 ],
 "metadata": {
  "kernelspec": {
   "display_name": "Python 3",
   "language": "python",
   "name": "python3"
  },
  "language_info": {
   "codemirror_mode": {
    "name": "ipython",
    "version": 3
   },
   "file_extension": ".py",
   "mimetype": "text/x-python",
   "name": "python",
   "nbconvert_exporter": "python",
   "pygments_lexer": "ipython3",
   "version": "3.6.4"
  }
 },
 "nbformat": 4,
 "nbformat_minor": 2
}
