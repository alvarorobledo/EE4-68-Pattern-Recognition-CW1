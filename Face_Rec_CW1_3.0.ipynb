{
 "cells": [
  {
   "cell_type": "code",
   "execution_count": 1,
   "metadata": {},
   "outputs": [],
   "source": [
    "import scipy.io\n",
    "import numpy as np\n",
    "import matplotlib.pyplot as plt\n",
    "from numpy import linalg as calc_eigen\n",
    "from sklearn.model_selection import train_test_split\n",
    "from sklearn.preprocessing import normalize as normalize_vectors\n",
    "from sklearn.model_selection import GridSearchCV as CV"
   ]
  },
  {
   "cell_type": "code",
   "execution_count": 2,
   "metadata": {},
   "outputs": [],
   "source": [
    "def extractTrainAndTestData(file_path, r, r2):\n",
    "    \"\"\"\n",
    "    takes images and labels as input\n",
    "    outputs training data and test data\n",
    "    \"\"\"\n",
    "    mat = scipy.io.loadmat(file_path)\n",
    "    X_train, X_test, y_train, y_test = train_test_split(mat['X'].T, mat['l'].T, test_size= r, random_state=r2, stratify = mat['l'].T)\n",
    "    N_train = len(X_train[:,0])\n",
    "    N_test = len(X_test[:,0])\n",
    "    return X_train, y_train, N_train, X_test, y_test, N_test\n",
    "\n",
    "def calculateAverageFace(X):\n",
    "    \"\"\"\n",
    "    takes the training data set as input \n",
    "    and returns the average face\n",
    "    \"\"\"\n",
    "    average_face= np.mean(X, axis=0)\n",
    "    #plt.figure()\n",
    "    #plt.title(\"Average Face\")\n",
    "    #plt.imshow(np.resize(average_face, (46, 56)).T, cmap='gray')\n",
    "    return average_face\n",
    "\n",
    "def normalize(X, AvgFace):\n",
    "    \"\"\"\n",
    "    takes the training data set and average face as input \n",
    "    and returns the normalized training data set\n",
    "\n",
    "    \"\"\"\n",
    "    N = len(X[:,0])\n",
    "    Q = np.empty((N,2576))\n",
    "    for index, face in enumerate(X):\n",
    "        Q[index] = face - AvgFace\n",
    "    return Q.T\n",
    "\n",
    "def calculateCovarianceMatrix(Q):\n",
    "    return np.matmul(Q,Q.T)/len(Q[0,:])\n",
    "\n",
    "def calculateLowDimCovarianceMatrix(Q):\n",
    "    return np.matmul(Q.T,Q)/len(Q[0,:])\n",
    "\n",
    "def calculateEigenValuesAndVectors(S):\n",
    "    \"\"\"\n",
    "    Takes covariance matrix as input\n",
    "    and returns eigen values and vectors\n",
    "    \"\"\"\n",
    "    v, w =  calc_eigen.eigh(S)\n",
    "    #eigen_vectors[:,i] --> eigen_values[i]\n",
    "    #eigen vector corresponding to eigen value\n",
    "\n",
    "    #flips left to right... ascending to descending\n",
    "    v = np.flip(v, axis=0) #turn ascending into descending\n",
    "    w = np.flip(w, axis=1) #turn ascending into descending\n",
    "    return v, w\n",
    "\n",
    "def calculateWeights(Q, U):\n",
    "    \"\"\"\n",
    "    takes input the normalized input and the eigen space\n",
    "    outputs the weights of the normalized input\n",
    "    \"\"\"\n",
    "    N = len(Q[0,:])\n",
    "    W = np.empty((N,len(U[0, :])))\n",
    "    for index, image in enumerate(Q.T):\n",
    "        W[index] = np.matmul(image, U)\n",
    "    return W\n",
    "\n",
    "def calculateWeights2(Q, U):\n",
    "    \"\"\"\n",
    "    alternative method to calculate weights\n",
    "    \"\"\"\n",
    "    N = len(Q[0,:])\n",
    "    W2 = np.empty((N,len(U[0, :])))\n",
    "    W2 = np.matmul(Q.T, top_eigen_vectors)\n",
    "    return W2\n",
    "\n",
    "def printImage(face, title, saved_file):\n",
    "    \"\"\"\n",
    "    takes input as the face you want to print, the title of the image, and the location of the file\n",
    "    you would like to save the image to. \n",
    "    \"\"\"\n",
    "    plt.figure()\n",
    "    plt.imshow(np.resize(face, (46, 56)).T, cmap='gray')\n",
    "    plt.title(title)\n",
    "    plt.savefig(saved_file, bbox_inches='tight')   # save the figure to file\n",
    "    plt.show()\n",
    "    plt.close() \n",
    "    \n",
    "def plotEigenValueGraph(v, points):\n",
    "    \"\"\"\n",
    "    plots eigen values against inrementing the number of eigen values used\n",
    "    in descending order\n",
    "    \"\"\"\n",
    "    y_points = [value for value in v[:points]]\n",
    "    x_points = [i for i in range(points)]\n",
    "    plt.xlabel('Number of Eigen Values')\n",
    "    plt.ylabel('Eigen Values')\n",
    "    plt.title('Plot of Eigen Values in Descending Order')\n",
    "    plt.plot(x_points, y_points)\n",
    "    plt.savefig('eigenvalues.png', bbox_inches='tight')   # save the figure to file\n",
    "    plt.show()\n",
    "    plt.close() "
   ]
  },
  {
   "cell_type": "code",
   "execution_count": 3,
   "metadata": {},
   "outputs": [],
   "source": [
    "file_path = 'face(1).mat'\n",
    "M = 100\n",
    "testRatio = 0.30\n",
    "r2 = 73\n",
    "\n",
    "X_train, y_train, N_train, X_test, y_test, N_test = extractTrainAndTestData(file_path, testRatio, r2)\n",
    "\n",
    "def calculateEigenSpace(X_train, M):\n",
    "    AvgFace = calculateAverageFace(X_train)\n",
    "    A = normalize(X_train, AvgFace)\n",
    "    S = calculateLowDimCovarianceMatrix(A)\n",
    "    eigen_values, eigen_vectors = calculateEigenValuesAndVectors(S)\n",
    "    #print(\"1: \", eigen_vectors.shape)\n",
    "    eigen_vectors = normalize_vectors(np.matmul(A, eigen_vectors), axis=0)\n",
    "    #print(\"2: \", eigen_vectors.shape)\n",
    "    top_eigen_vectors = eigen_vectors[:, :M]\n",
    "    #print(\"3: \", top_eigen_vectors.shape)\n",
    "    return AvgFace, A, eigen_values, top_eigen_vectors\n",
    "\n",
    "AvgFace, A, EigenValues, EigenSpace = calculateEigenSpace(X_train, M)\n",
    "Weights =  calculateWeights(A, EigenSpace)"
   ]
  },
  {
   "cell_type": "code",
   "execution_count": 4,
   "metadata": {},
   "outputs": [
    {
     "data": {
      "image/png": "[encoded data removed]",
      "text/plain": [
       "<matplotlib.figure.Figure at 0x20a50ba2160>"
      ]
     },
     "metadata": {},
     "output_type": "display_data"
    }
   ],
   "source": [
    "x_points = 30\n",
    "plotEigenValueGraph(EigenValues, x_points)"
   ]
  },
  {
   "cell_type": "code",
   "execution_count": 5,
   "metadata": {},
   "outputs": [
    {
     "data": {
      "text/plain": [
       "100.0"
      ]
     },
     "execution_count": 5,
     "metadata": {},
     "output_type": "execute_result"
    }
   ],
   "source": [
    "np.sum(EigenValues[:390])*100/np.sum(EigenValues)"
   ]
  },
  {
   "cell_type": "markdown",
   "metadata": {},
   "source": [
    "### Reconstruction"
   ]
  },
  {
   "cell_type": "code",
   "execution_count": 6,
   "metadata": {},
   "outputs": [],
   "source": [
    "def reconstruction(weight, average_face, w):\n",
    "    return (average_face + np.dot(w, weight.T))"
   ]
  },
  {
   "cell_type": "code",
   "execution_count": 7,
   "metadata": {},
   "outputs": [],
   "source": [
    "# picking one face and it's corresponding weight for reconstruction\n",
    "random_index = 5\n",
    "face_to_be_reconstructed = X_train[random_index, :]\n",
    "weights_of_face_to_be_reconstructed = Weights[random_index, :]"
   ]
  },
  {
   "cell_type": "code",
   "execution_count": 8,
   "metadata": {},
   "outputs": [
    {
     "data": {
      "image/png": "[encoded data removed]",
      "text/plain": [
       "<matplotlib.figure.Figure at 0x20a50e3c160>"
      ]
     },
     "metadata": {},
     "output_type": "display_data"
    }
   ],
   "source": [
    "reconstructed_face = reconstruction(weights_of_face_to_be_reconstructed, AvgFace, EigenSpace)\n",
    "#printImage(face_to_be_reconstructed, \"Original Face\", \"original_face.png\")\n",
    "printImage(reconstructed_face, \"Reconstructed Face\", \"reconstructed_face2.png\")"
   ]
  },
  {
   "cell_type": "code",
   "execution_count": 9,
   "metadata": {},
   "outputs": [],
   "source": [
    "error = reconstructed_face - face_to_be_reconstructed"
   ]
  },
  {
   "cell_type": "code",
   "execution_count": 10,
   "metadata": {},
   "outputs": [
    {
     "data": {
      "text/plain": [
       "314.19223664722057"
      ]
     },
     "execution_count": 10,
     "metadata": {},
     "output_type": "execute_result"
    }
   ],
   "source": [
    "calc_eigen.norm(error)"
   ]
  },
  {
   "cell_type": "markdown",
   "metadata": {},
   "source": [
    "# Recognition"
   ]
  },
  {
   "cell_type": "markdown",
   "metadata": {},
   "source": [
    "### NN Classification (self built functions)"
   ]
  },
  {
   "cell_type": "code",
   "execution_count": 11,
   "metadata": {},
   "outputs": [],
   "source": [
    "def NNClassification(r, \n",
    "                     y_train, W_train, X_train, \n",
    "                     y_test, W_test, X_test):\n",
    "    \n",
    "    weight_test = W_test[r, :]\n",
    "    face_test = X_test[r, :]\n",
    "    face_test_label = y_test[r, :]\n",
    "    error = np.empty(( len(W_train[:, 0]) ))\n",
    "    for index, weight in enumerate(W_train): \n",
    "        error[index] = calc_eigen.norm(weight_test - weight)\n",
    "    min_error = error.min()\n",
    "    min_error_index = error.argmin()\n",
    "    face_best_matched = X_train[min_error_index, :]\n",
    "    label_best_matched = y_train[min_error_index, :]\n",
    "    print(face_test_label, '--->', label_best_matched)\n",
    "    if label_best_matched != face_test_label:\n",
    "        return 1\n",
    "    else:\n",
    "        return 0"
   ]
  },
  {
   "cell_type": "code",
   "execution_count": 12,
   "metadata": {},
   "outputs": [
    {
     "name": "stdout",
     "output_type": "stream",
     "text": [
      "[8] ---> [8]\n",
      "[45] ---> [5]\n",
      "[32] ---> [32]\n",
      "[42] ---> [16]\n",
      "[41] ---> [40]\n",
      "[45] ---> [45]\n",
      "[43] ---> [36]\n",
      "[22] ---> [12]\n",
      "[42] ---> [42]\n",
      "[50] ---> [50]\n",
      "[11] ---> [30]\n",
      "[26] ---> [26]\n",
      "[40] ---> [35]\n",
      "[19] ---> [24]\n",
      "[30] ---> [17]\n",
      "[49] ---> [6]\n",
      "[47] ---> [44]\n",
      "[28] ---> [46]\n",
      "[1] ---> [1]\n",
      "[18] ---> [20]\n",
      "[27] ---> [29]\n",
      "[36] ---> [48]\n",
      "[14] ---> [14]\n",
      "[48] ---> [41]\n",
      "[17] ---> [17]\n",
      "[6] ---> [10]\n",
      "[38] ---> [49]\n",
      "[39] ---> [39]\n",
      "[3] ---> [3]\n",
      "[45] ---> [45]\n",
      "[15] ---> [15]\n",
      "[21] ---> [21]\n",
      "[13] ---> [13]\n",
      "[27] ---> [27]\n",
      "[9] ---> [9]\n",
      "[18] ---> [18]\n",
      "[47] ---> [21]\n",
      "[16] ---> [16]\n",
      "[33] ---> [33]\n",
      "[18] ---> [18]\n",
      "[32] ---> [49]\n",
      "[7] ---> [1]\n",
      "[37] ---> [37]\n",
      "[20] ---> [20]\n",
      "[2] ---> [5]\n",
      "[19] ---> [4]\n",
      "[33] ---> [33]\n",
      "[44] ---> [29]\n",
      "[2] ---> [32]\n",
      "[2] ---> [5]\n",
      "[13] ---> [19]\n",
      "[52] ---> [52]\n",
      "[52] ---> [52]\n",
      "[34] ---> [40]\n",
      "[3] ---> [3]\n",
      "[10] ---> [10]\n",
      "[48] ---> [48]\n",
      "[9] ---> [9]\n",
      "[15] ---> [21]\n",
      "[24] ---> [24]\n",
      "[51] ---> [51]\n",
      "[26] ---> [26]\n",
      "[16] ---> [16]\n",
      "[9] ---> [9]\n",
      "[29] ---> [21]\n",
      "[51] ---> [25]\n",
      "[6] ---> [6]\n",
      "[23] ---> [23]\n",
      "[21] ---> [21]\n",
      "[35] ---> [35]\n",
      "[24] ---> [7]\n",
      "[29] ---> [46]\n",
      "[5] ---> [5]\n",
      "[36] ---> [36]\n",
      "[47] ---> [17]\n",
      "[24] ---> [24]\n",
      "[51] ---> [17]\n",
      "[41] ---> [34]\n",
      "[1] ---> [1]\n",
      "[46] ---> [32]\n",
      "[21] ---> [21]\n",
      "[4] ---> [4]\n",
      "[4] ---> [4]\n",
      "[22] ---> [20]\n",
      "[11] ---> [6]\n",
      "[49] ---> [49]\n",
      "[52] ---> [52]\n",
      "[34] ---> [34]\n",
      "[14] ---> [14]\n",
      "[50] ---> [50]\n",
      "[25] ---> [11]\n",
      "[44] ---> [44]\n",
      "[38] ---> [38]\n",
      "[5] ---> [5]\n",
      "[41] ---> [35]\n",
      "[28] ---> [28]\n",
      "[40] ---> [35]\n",
      "[37] ---> [37]\n",
      "[30] ---> [30]\n",
      "[44] ---> [33]\n",
      "[17] ---> [33]\n",
      "[15] ---> [15]\n",
      "[13] ---> [13]\n",
      "[38] ---> [10]\n",
      "[40] ---> [40]\n",
      "[37] ---> [37]\n",
      "[4] ---> [4]\n",
      "[3] ---> [3]\n",
      "[8] ---> [8]\n",
      "[12] ---> [12]\n",
      "[30] ---> [29]\n",
      "[42] ---> [49]\n",
      "[7] ---> [7]\n",
      "[14] ---> [14]\n",
      "[33] ---> [33]\n",
      "[8] ---> [8]\n",
      "[43] ---> [11]\n",
      "[6] ---> [6]\n",
      "[19] ---> [19]\n",
      "[10] ---> [10]\n",
      "[43] ---> [7]\n",
      "[23] ---> [23]\n",
      "[48] ---> [27]\n",
      "[17] ---> [14]\n",
      "[49] ---> [49]\n",
      "[11] ---> [12]\n",
      "[25] ---> [25]\n",
      "[22] ---> [22]\n",
      "[50] ---> [50]\n",
      "[25] ---> [25]\n",
      "[20] ---> [20]\n",
      "[46] ---> [11]\n",
      "[23] ---> [23]\n",
      "[28] ---> [28]\n",
      "[26] ---> [29]\n",
      "[31] ---> [31]\n",
      "[27] ---> [27]\n",
      "[31] ---> [31]\n",
      "[10] ---> [10]\n",
      "[36] ---> [48]\n",
      "[32] ---> [32]\n",
      "[20] ---> [20]\n",
      "[16] ---> [14]\n",
      "[46] ---> [46]\n",
      "[12] ---> [12]\n",
      "[35] ---> [34]\n",
      "[1] ---> [16]\n",
      "[39] ---> [39]\n",
      "[31] ---> [31]\n",
      "[7] ---> [26]\n",
      "[29] ---> [29]\n",
      "[5] ---> [5]\n",
      "[12] ---> [12]\n",
      "[34] ---> [8]\n",
      "[39] ---> [39]\n",
      "[35] ---> [35]\n",
      "38.46153846153847\n"
     ]
    }
   ],
   "source": [
    "A_test = normalize(X_test, AvgFace) #normalize the test data\n",
    "W_test = calculateWeights(A_test, EigenSpace) #calculate weights of the test data \n",
    "totalErrors = 0\n",
    "for r in range(N_test):\n",
    "    totalErrors += NNClassification(r, y_train, Weights, X_train, y_test, W_test, X_test)\n",
    "E_out = totalErrors/N_test\n",
    "print(E_out*100)"
   ]
  },
  {
   "cell_type": "code",
   "execution_count": 13,
   "metadata": {},
   "outputs": [
    {
     "data": {
      "text/plain": [
       "100"
      ]
     },
     "execution_count": 13,
     "metadata": {},
     "output_type": "execute_result"
    }
   ],
   "source": [
    "len(EigenSpace[0, :])"
   ]
  },
  {
   "cell_type": "markdown",
   "metadata": {},
   "source": [
    "### NN Classification #2 (Inbuilt Functions Used)"
   ]
  },
  {
   "cell_type": "code",
   "execution_count": 14,
   "metadata": {},
   "outputs": [],
   "source": [
    "from sklearn.neighbors import KNeighborsClassifier"
   ]
  },
  {
   "cell_type": "code",
   "execution_count": 15,
   "metadata": {},
   "outputs": [],
   "source": [
    "def NNClassification(file_path, testRatio, M, r2):\n",
    "    X_train, y_train, N_train, X_test, y_test, N_test = extractTrainAndTestData(file_path, testRatio, r2)\n",
    "    neigh = KNeighborsClassifier(n_neighbors = 1)\n",
    "    #preparing the training data\n",
    "    AvgFace, A, EigenValues, EigenSpace = calculateEigenSpace(X_train, M) #calculating eigen space\n",
    "    W_train =  calculateWeights(A, EigenSpace) #calculating the weights of training set using eigen space\n",
    "    #preparing the test data\n",
    "    A_test = normalize(X_test, AvgFace) #normalize the test data\n",
    "    W_test = calculateWeights(A_test, EigenSpace) #calculate weights of the test data \n",
    "    neigh.fit(W_train, y_train) \n",
    "    neigh.predict(W_test)\n",
    "    return neigh.score(W_test, y_test)"
   ]
  },
  {
   "cell_type": "code",
   "execution_count": 16,
   "metadata": {},
   "outputs": [
    {
     "name": "stderr",
     "output_type": "stream",
     "text": [
      "C:\\ProgramData\\Anaconda3\\lib\\site-packages\\ipykernel_launcher.py:10: DataConversionWarning: A column-vector y was passed when a 1d array was expected. Please change the shape of y to (n_samples, ), for example using ravel().\n",
      "  # Remove the CWD from sys.path while we load stuff.\n"
     ]
    },
    {
     "name": "stdout",
     "output_type": "stream",
     "text": [
      "Accuracy for:  1  is:  0.07051282051282051\n",
      "Accuracy for:  3  is:  0.14743589743589744\n",
      "Accuracy for:  5  is:  0.3076923076923077\n",
      "Accuracy for:  10  is:  0.46794871794871795\n",
      "Accuracy for:  50  is:  0.6346153846153846\n",
      "Accuracy for:  100  is:  0.6153846153846154\n",
      "Accuracy for:  200  is:  0.6282051282051282\n",
      "Accuracy for:  300  is:  0.6346153846153846\n",
      "Accuracy for:  363  is:  0.6410256410256411\n"
     ]
    }
   ],
   "source": [
    "file_path = 'face(1).mat'\n",
    "M = [1, 3, 5, 10, 50, 100, 200, 300, 363]\n",
    "testRatio = 0.30\n",
    "r2 = 73\n",
    "for m_val in M: \n",
    "    acc = NNClassification(file_path, testRatio, m_val, r2)\n",
    "    print(\"Accuracy for: \", m_val, \" is: \" , acc)"
   ]
  },
  {
   "cell_type": "markdown",
   "metadata": {},
   "source": [
    "### Alternative Recognition"
   ]
  },
  {
   "cell_type": "code",
   "execution_count": 17,
   "metadata": {},
   "outputs": [],
   "source": [
    "def AlternativeMethod(file_path, M, testRatio, r2):\n",
    "    X_train, y_train, N_train, X_test, y_test, N_test = extractTrainAndTestData(file_path, testRatio, r2)\n",
    "    noOfClasses = 52\n",
    "    reconstrErrors = np.empty((N_test, noOfClasses))\n",
    "    d = {}\n",
    "\n",
    "    for i in range(1, noOfClasses+1): #for each class    \n",
    "        d[\"X_train_\" + str(i)] = X_train[np.where(y_train == i)[0]]\n",
    "        N = len(d[\"X_train_\" + str(i)][:,0])\n",
    "        #print(\"shape: \", d[\"X_train_\" + str(i)].shape)\n",
    "        AvgFace, normalized_Input, EigenValues, topEigenVectors = calculateEigenSpace(d[\"X_train_\" + str(i)], M)\n",
    "        #weights = calculateWeights(M, normalized_Input, topEigenVectors)\n",
    "        weight_test = np.matmul(normalize(X_test, AvgFace).T, topEigenVectors)\n",
    "        #print(topEigenVectors.shape)\n",
    "        for index, weight in enumerate(weight_test):\n",
    "            reconstructed_face = AvgFace + np.dot(topEigenVectors, weight.T)\n",
    "            reconstruction_error = calc_eigen.norm(X_test[index] - reconstructed_face)\n",
    "            reconstrErrors[index, i-1] = reconstruction_error \n",
    "            \n",
    "    total_error = 0\n",
    "    for index, face in enumerate(reconstrErrors):\n",
    "        original_class = y_test[index, :]\n",
    "        min_error = face.min()\n",
    "        min_error_index = face.argmin()\n",
    "        #print(original_class, '-->', min_error_index+1)\n",
    "        class_matched = min_error_index+1\n",
    "        if original_class != class_matched:\n",
    "            total_error +=1\n",
    "            \n",
    "    return 100 - (total_error*100/N_test)"
   ]
  },
  {
   "cell_type": "code",
   "execution_count": 18,
   "metadata": {},
   "outputs": [
    {
     "name": "stdout",
     "output_type": "stream",
     "text": [
      "Accuracy for:  1  is:  57.69230769230769\n",
      "Accuracy for:  2  is:  67.94871794871796\n",
      "Accuracy for:  3  is:  71.7948717948718\n",
      "Accuracy for:  4  is:  71.7948717948718\n",
      "Accuracy for:  5  is:  71.15384615384616\n",
      "Accuracy for:  6  is:  70.51282051282051\n"
     ]
    }
   ],
   "source": [
    "file_path = 'face(1).mat'\n",
    "M = [1, 2, 3, 4, 5, 6]\n",
    "for m_val in M: \n",
    "    acc = AlternativeMethod(file_path, m_val, testRatio, r2)\n",
    "    print(\"Accuracy for: \", m_val, \" is: \" , acc)"
   ]
  },
  {
   "cell_type": "markdown",
   "metadata": {},
   "source": [
    "# LDA-PCA"
   ]
  },
  {
   "cell_type": "code",
   "execution_count": 27,
   "metadata": {},
   "outputs": [],
   "source": [
    "def compute_class_means():\n",
    "    class_means={} #dict containing m1, m2, m3, ... (the mean of each class), as well as the global mean m\n",
    "    for class_i in range(1, 53):\n",
    "        class_means[\"m_\" + str(class_i)] = np.mean(X_train[np.where(y_train == class_i)[0]], axis=0)\n",
    "    class_means[\"m\"] = calculateAverageFace(X_train)\n",
    "    return class_means\n",
    "\n",
    "def compute_S_b(class_means, M_pca):\n",
    "    S_b = np.empty((2576, 2576))\n",
    "    for class_i in range(1, 53):\n",
    "        S_b += np.dot((class_means[\"m_\" + str(class_i)] - class_means[\"m\"]).reshape(2576,1), (class_means[\"m_\" + str(class_i)] - class_means[\"m\"]).reshape((1, 2576)))\n",
    "    return S_b\n",
    "\n",
    "def compute_S_w(class_means, M_pca):\n",
    "    S_w = np.empty((2576, 2576))\n",
    "    for class_i in range(1, 53):\n",
    "        for image in X_train[np.where(y_train == class_i)[0]]:\n",
    "            S_w += np.dot((image - class_means[\"m_\" + str(class_i)]).reshape(2576,1), (image - class_means[\"m_\" + str(class_i)]).reshape(1,2576))\n",
    "    return S_w\n",
    "\n",
    "def calculateGeneralisedEigenvectors(denominator, numerator, M):\n",
    "    V, W = calculateEigenValuesAndVectors(np.matmul(np.linalg.inv(denominator), numerator))\n",
    "    #plotEigenValueGraph(eigen_values, 100)\n",
    "    W = normalize_vectors(W, axis=0)\n",
    "    W = W[:, :M]\n",
    "    return W\n",
    "\n",
    "def NNClassification_weights(W_train, W_test, y_train, y_test):\n",
    "    neigh = KNeighborsClassifier(n_neighbors = 1)\n",
    "    neigh.fit(W_train, y_train) \n",
    "    neigh.predict(W_test)\n",
    "    return neigh"
   ]
  },
  {
   "cell_type": "code",
   "execution_count": 155,
   "metadata": {},
   "outputs": [],
   "source": [
    "def PCA_LDA(file_path, testRatio, M_pca, M_lda, r2):\n",
    "    X_train, y_train, N_train, X_test, y_test, N_test = extractTrainAndTestData(file_path, testRatio, r2)\n",
    "    #W_pca\n",
    "    AvgFace, A_train, EigenValues, EigenSpace = calculateEigenSpace(X_train, M_pca)\n",
    "    W_pca = EigenSpace\n",
    "    \n",
    "    #calculate S_w and S_b\n",
    "    class_means = compute_class_means()\n",
    "    S_b = compute_S_b(class_means, M_pca)\n",
    "    S_w = compute_S_w(class_means, M_pca)\n",
    "    #W_lda\n",
    "    W_lda = calculateGeneralisedEigenvectors(np.linalg.multi_dot([W_pca.T, S_w, W_pca]), np.linalg.multi_dot([W_pca.T, S_b, W_pca]), M_lda)\n",
    "    \n",
    "    #W_opt\n",
    "    W_opt = np.matmul(W_lda.T, W_pca.T).T\n",
    "    \n",
    "    A_test = normalize(X_test, AvgFace)\n",
    "    #Classification\n",
    "    W_train = np.matmul(A_train.T, W_opt) #calculate weights of training data\n",
    "    W_test = np.dot(A_test.T, W_opt) #calculate weights of the test data \n",
    "    print(len(y_train), W_train.shape)\n",
    "    neigh = NNClassification_weights(W_train, W_test, y_train, y_test)\n",
    "    acc = neigh.score(W_test, y_test)\n",
    "    return acc"
   ]
  },
  {
   "cell_type": "code",
   "execution_count": 156,
   "metadata": {},
   "outputs": [
    {
     "name": "stdout",
     "output_type": "stream",
     "text": [
      "364 (364, 51)\n"
     ]
    },
    {
     "name": "stderr",
     "output_type": "stream",
     "text": [
      "C:\\ProgramData\\Anaconda3\\lib\\site-packages\\ipykernel_launcher.py:30: DataConversionWarning: A column-vector y was passed when a 1d array was expected. Please change the shape of y to (n_samples, ), for example using ravel().\n"
     ]
    },
    {
     "data": {
      "text/plain": [
       "0.7435897435897436"
      ]
     },
     "execution_count": 156,
     "metadata": {},
     "output_type": "execute_result"
    }
   ],
   "source": [
    "file_path = 'face(1).mat'\n",
    "M_pca = 150\n",
    "testRatio = 0.30\n",
    "M_lda = 51\n",
    "random_state = 73\n",
    "\n",
    "\n",
    "acc = PCA_LDA(file_path, testRatio, M_pca, M_lda, random_state)\n",
    "acc"
   ]
  },
  {
   "cell_type": "markdown",
   "metadata": {},
   "source": [
    "### Cross Validation"
   ]
  },
  {
   "cell_type": "code",
   "execution_count": 22,
   "metadata": {},
   "outputs": [
    {
     "name": "stderr",
     "output_type": "stream",
     "text": [
      "C:\\ProgramData\\Anaconda3\\lib\\site-packages\\ipykernel_launcher.py:30: DataConversionWarning: A column-vector y was passed when a 1d array was expected. Please change the shape of y to (n_samples, ), for example using ravel().\n"
     ]
    },
    {
     "name": "stdout",
     "output_type": "stream",
     "text": [
      "M_pca:  130  & M_lda:  51  return accuracy:  0.717948717948718\n",
      "M_pca:  140  & M_lda:  51  return accuracy:  0.7243589743589743\n",
      "M_pca:  150  & M_lda:  51  return accuracy:  0.7435897435897436\n",
      "M_pca:  160  & M_lda:  51  return accuracy:  0.7307692307692307\n",
      "M_pca:  170  & M_lda:  51  return accuracy:  0.7243589743589743\n",
      "M_pca:  180  & M_lda:  51  return accuracy:  0.717948717948718\n"
     ]
    }
   ],
   "source": [
    "M_pca = [130, 140, 150, 160, 170, 180]\n",
    "M_lda = 51\n",
    "\n",
    "#for pca, lda in zip(M_pca, M_lda):\n",
    "for pca in M_pca:\n",
    "    #M_lda = [int(pca*0.25), int(pca*0.5), int(pca*0.75)]\n",
    "    acc = PCA_LDA(file_path, testRatio, pca, M_lda, random_state)\n",
    "    print(\"M_pca: \", pca, \" & M_lda: \", M_lda, \" return accuracy: \",acc)"
   ]
  },
  {
   "cell_type": "code",
   "execution_count": 25,
   "metadata": {},
   "outputs": [
    {
     "name": "stderr",
     "output_type": "stream",
     "text": [
      "C:\\ProgramData\\Anaconda3\\lib\\site-packages\\ipykernel_launcher.py:30: DataConversionWarning: A column-vector y was passed when a 1d array was expected. Please change the shape of y to (n_samples, ), for example using ravel().\n"
     ]
    },
    {
     "name": "stdout",
     "output_type": "stream",
     "text": [
      "M_pca:  175  & M_lda:  51  return accuracy:  0.7243589743589743\n",
      "M_pca:  190  & M_lda:  51  return accuracy:  0.7115384615384616\n",
      "M_pca:  200  & M_lda:  51  return accuracy:  0.7307692307692307\n",
      "M_pca:  210  & M_lda:  51  return accuracy:  0.7307692307692307\n",
      "M_pca:  225  & M_lda:  51  return accuracy:  0.7243589743589743\n"
     ]
    }
   ],
   "source": [
    "M_pca = [175, 190, 200, 210, 225]\n",
    "M_lda = 51\n",
    "\n",
    "#for pca, lda in zip(M_pca, M_lda):\n",
    "for pca in M_pca:\n",
    "    #M_lda = [int(pca*0.25), int(pca*0.5), int(pca*0.75)]\n",
    "    acc = PCA_LDA(file_path, testRatio, pca, M_lda, random_state)\n",
    "    print(\"M_pca: \", pca, \" & M_lda: \", M_lda, \" return accuracy: \",acc)"
   ]
  },
  {
   "cell_type": "code",
   "execution_count": null,
   "metadata": {},
   "outputs": [],
   "source": [
    "M_pca = [100, 120, 130, 140, 150, 170, 200]\n",
    "M_lda = 51\n",
    "testRatio = 0.30\n",
    "\n",
    "for pca in M_pca:\n",
    "    #M_lda = [int(pca*0.25), int(pca*0.5), int(pca*0.75)]\n",
    "    acc = PCA_LDA(file_path, testRatio, pca, M_lda)\n",
    "    print(\"M_pca: \", pca, \" & M_lda: \", M_lda, \" return accuracy: \",acc)"
   ]
  },
  {
   "cell_type": "code",
   "execution_count": null,
   "metadata": {},
   "outputs": [],
   "source": [
    "M_pca = [100, 120, 130, 140, 150, 170, 200]\n",
    "M_lda = 45\n",
    "testRatio = 0.30\n",
    "\n",
    "for pca in M_pca:\n",
    "    #M_lda = [int(pca*0.25), int(pca*0.5), int(pca*0.75)]\n",
    "    acc = PCA_LDA(file_path, testRatio, pca, M_lda)\n",
    "    print(\"M_pca: \", pca, \" & M_lda: \", M_lda, \" return accuracy: \",acc)"
   ]
  },
  {
   "cell_type": "markdown",
   "metadata": {},
   "source": [
    "### ------------------------------------------------------------------------------------------------------------------------------------"
   ]
  },
  {
   "cell_type": "markdown",
   "metadata": {},
   "source": [
    "### Part 1: PCA"
   ]
  },
  {
   "cell_type": "code",
   "execution_count": null,
   "metadata": {},
   "outputs": [],
   "source": [
    "#calculate the eigen space for training set using PCA (W_pca = EigenSpace)\n",
    "AvgFace, A, EigenValues, EigenSpace = calculateEigenSpace(X_train, M_pca)\n",
    "W_pca = EigenSpace"
   ]
  },
  {
   "cell_type": "markdown",
   "metadata": {},
   "source": [
    "### Part 2: LDA"
   ]
  },
  {
   "cell_type": "code",
   "execution_count": null,
   "metadata": {},
   "outputs": [],
   "source": [
    "#calculate S_w and S_b\n",
    "class_means = compute_class_means()\n",
    "S_b = compute_S_b(class_means, M_pca)\n",
    "S_w = compute_S_w(class_means, M_pca)"
   ]
  },
  {
   "cell_type": "markdown",
   "metadata": {},
   "source": [
    "### Part 3: Combining PCA with LDA"
   ]
  },
  {
   "cell_type": "code",
   "execution_count": null,
   "metadata": {},
   "outputs": [],
   "source": [
    "#computation of W_pca.T*S_b*W_pca\n",
    "numerator = np.linalg.multi_dot([W_pca.T, S_b, W_pca])"
   ]
  },
  {
   "cell_type": "code",
   "execution_count": null,
   "metadata": {},
   "outputs": [],
   "source": [
    "#computation of W_pca.T*S_w*W_pca\n",
    "denominator = np.linalg.multi_dot([W_pca.T, S_w, W_pca])"
   ]
  },
  {
   "cell_type": "code",
   "execution_count": null,
   "metadata": {},
   "outputs": [],
   "source": [
    "W_lda = calculateGeneralisedEigenvectors(denominator, numerator, M_lda)"
   ]
  },
  {
   "cell_type": "markdown",
   "metadata": {},
   "source": [
    "### 4. Calculating W_opt"
   ]
  },
  {
   "cell_type": "code",
   "execution_count": null,
   "metadata": {},
   "outputs": [],
   "source": [
    "W_opt = np.matmul(W_lda.T, W_pca.T).T"
   ]
  },
  {
   "cell_type": "code",
   "execution_count": null,
   "metadata": {},
   "outputs": [],
   "source": [
    "W_opt.shape"
   ]
  },
  {
   "cell_type": "code",
   "execution_count": null,
   "metadata": {},
   "outputs": [],
   "source": [
    "for i in range(0, 21):\n",
    "    printImage(W_opt[:, i], \"Eigen Vector \"+str(i), \"reconstructed_face2.png\")"
   ]
  },
  {
   "cell_type": "markdown",
   "metadata": {},
   "source": [
    "### 5. NN Classification"
   ]
  },
  {
   "cell_type": "code",
   "execution_count": null,
   "metadata": {},
   "outputs": [],
   "source": [
    "W_train = np.matmul(X_train, W_opt) #calculate weights of training data\n",
    "W_test = np.dot(X_test, W_opt) #calculate weights of the test data "
   ]
  },
  {
   "cell_type": "code",
   "execution_count": null,
   "metadata": {},
   "outputs": [],
   "source": [
    "accuracy = NNClassification_weights(W_train, W_test, y_train, y_test)\n",
    "accuracy"
   ]
  },
  {
   "cell_type": "code",
   "execution_count": null,
   "metadata": {},
   "outputs": [],
   "source": []
  },
  {
   "cell_type": "code",
   "execution_count": null,
   "metadata": {},
   "outputs": [],
   "source": []
  },
  {
   "cell_type": "markdown",
   "metadata": {},
   "source": [
    "# PCA-LDA Ensemble"
   ]
  },
  {
   "cell_type": "code",
   "execution_count": 222,
   "metadata": {},
   "outputs": [],
   "source": [
    "import random\n",
    "\n",
    "def basic_bagging(images, c1): #implements bagging (with replacement)\n",
    "    bagged_images = []\n",
    "    for i in range(0, c1):\n",
    "        rand_index = random.randint(0,c1-1)\n",
    "        bagged_images.append(images[rand_index])\n",
    "    return bagged_images\n",
    "\n",
    "def create_one_replicate(file_path, testRatio, r2, c1): #creates a single replicate containing c1 images from each of the 52 classes\n",
    "    X_train, y_train, N_train, X_test, y_test, N_test = extractTrainAndTestData(file_path, testRatio, r2)\n",
    "    replicate = np.empty((0, 2576))\n",
    "    replicate_labels = []\n",
    "    for class_i in range(1, 53):\n",
    "        class_i_images = X_train[np.where(y_train == class_i)[0]]\n",
    "        bagged_class_i = basic_bagging(class_i_images, c1)\n",
    "        bagged_class_i = convert_list_to_numpy_array(bagged_class_i)\n",
    "        replicate = np.concatenate((replicate, bagged_class_i), axis=0)\n",
    "        for i in range(0,c1):\n",
    "            replicate_labels.append(class_i)\n",
    "    return replicate, replicate_labels\n",
    "\n",
    "def convert_list_to_numpy_array(myList):\n",
    "    myArray = np.array(myList)\n",
    "    return myArray\n",
    "\n",
    "X_train, y_train, N_train, X_test, y_test, N_test = extractTrainAndTestData(file_path, testRatio, r2)\n",
    "def PCA_LDA_new(X_train, y_train, X_test, y_test, M_pca, M_lda):        \n",
    "    #W_pca\n",
    "    AvgFace, A_train, EigenValues, EigenSpace = calculateEigenSpace(X_train, M_pca)\n",
    "    W_pca = EigenSpace\n",
    "    \n",
    "    #calculate S_w and S_b\n",
    "    class_means = compute_class_means()\n",
    "    S_b = compute_S_b(class_means, M_pca)\n",
    "    S_w = compute_S_w(class_means, M_pca)\n",
    "    #W_lda\n",
    "    W_lda = calculateGeneralisedEigenvectors(np.linalg.multi_dot([W_pca.T, S_w, W_pca]), np.linalg.multi_dot([W_pca.T, S_b, W_pca]), M_lda)\n",
    "    \n",
    "    #W_opt\n",
    "    W_opt = np.matmul(W_lda.T, W_pca.T).T\n",
    "    \n",
    "    A_test = normalize(X_test, AvgFace)\n",
    "    #Classification\n",
    "    W_train = np.matmul(A_train.T, W_opt) #calculate weights of training data\n",
    "    W_test = np.dot(A_test.T, W_opt) #calculate weights of the test data \n",
    "    neigh = NNClassification_weights(W_train, W_test, y_train, y_test)\n",
    "    acc = neigh.score(W_test, y_test)\n",
    "    return neigh.predict(W_test)\n",
    "\n",
    "def calc_accuracy(predictions, y_test):\n",
    "    return np.sum(predictions==np.squeeze(y_test))/len(y_test)*100"
   ]
  },
  {
   "cell_type": "code",
   "execution_count": 227,
   "metadata": {},
   "outputs": [
    {
     "name": "stdout",
     "output_type": "stream",
     "text": [
      "0\n",
      "1\n",
      "2\n",
      "3\n",
      "4\n",
      "5\n",
      "6\n",
      "7\n",
      "8\n",
      "9\n",
      "10\n",
      "11\n",
      "12\n",
      "13\n",
      "14\n",
      "15\n",
      "16\n",
      "17\n",
      "18\n",
      "19\n"
     ]
    }
   ],
   "source": [
    "file_path = 'face(1).mat'\n",
    "M_pca = 200\n",
    "testRatio = 0.30\n",
    "M_lda = 51\n",
    "random_state = 73\n",
    "\n",
    "c1 = 7\n",
    "\n",
    "T = 20 #number of replicates\n",
    "all_replicates = []\n",
    "all_replicates_labels = []\n",
    "for i in range(0, T):\n",
    "    replicate, replicate_labels = create_one_replicate(file_path, testRatio, random_state, c1)\n",
    "    #print(replicate.shape, len(replicate_labels))\n",
    "    all_replicates.append(replicate)\n",
    "    all_replicates_labels.append(replicate_labels)\n",
    "\n",
    "all_predictions = np.empty((T, len(X_test)))\n",
    "\n",
    "for i in range(0, len(all_replicates)):\n",
    "    this_replicate_classifier = PCA_LDA_new(all_replicates[i], all_replicates_labels[i], X_test, y_test, M_pca, M_lda)\n",
    "    print(i)\n",
    "    all_predictions[i] = this_replicate_classifier"
   ]
  },
  {
   "cell_type": "code",
   "execution_count": 228,
   "metadata": {},
   "outputs": [
    {
     "data": {
      "text/plain": [
       "72.43589743589743"
      ]
     },
     "execution_count": 228,
     "metadata": {},
     "output_type": "execute_result"
    }
   ],
   "source": [
    "predictions = np.empty((len(X_test),))\n",
    "for i, row in enumerate(all_predictions.T):\n",
    "    counts = np.bincount(row.astype(int))\n",
    "    predictions[i] = np.argmax(counts)\n",
    "predictions\n",
    "calc_accuracy(predictions, y_test)"
   ]
  },
  {
   "cell_type": "code",
   "execution_count": 186,
   "metadata": {},
   "outputs": [
    {
     "data": {
      "text/plain": [
       "(156, 10)"
      ]
     },
     "execution_count": 186,
     "metadata": {},
     "output_type": "execute_result"
    }
   ],
   "source": [
    "all_predictions.shape"
   ]
  },
  {
   "cell_type": "code",
   "execution_count": 226,
   "metadata": {},
   "outputs": [
    {
     "name": "stdout",
     "output_type": "stream",
     "text": [
      "70.51282051282051\n"
     ]
    }
   ],
   "source": [
    "print(np.sum(predictions==np.squeeze(y_test))/len(y_test)*100)"
   ]
  },
  {
   "cell_type": "code",
   "execution_count": null,
   "metadata": {},
   "outputs": [],
   "source": []
  }
 ],
 "metadata": {
  "kernelspec": {
   "display_name": "Python 3",
   "language": "python",
   "name": "python3"
  },
  "language_info": {
   "codemirror_mode": {
    "name": "ipython",
    "version": 3
   },
   "file_extension": ".py",
   "mimetype": "text/x-python",
   "name": "python",
   "nbconvert_exporter": "python",
   "pygments_lexer": "ipython3",
   "version": "3.6.4"
  }
 },
 "nbformat": 4,
 "nbformat_minor": 2
}
